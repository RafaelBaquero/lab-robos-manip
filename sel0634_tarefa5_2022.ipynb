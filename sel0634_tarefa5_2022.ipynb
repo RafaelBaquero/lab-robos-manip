{
  "metadata": {
    "colab": {
      "name": "sel0634_tarefa5_2022.ipynb",
      "provenance": []
    },
    "kernelspec": {
      "name": "python3",
      "display_name": "Python 3 (ipykernel)",
      "language": "python"
    },
    "language_info": {
      "name": "python",
      "version": "3.7.12",
      "mimetype": "text/x-python",
      "codemirror_mode": {
        "name": "ipython",
        "version": 3
      },
      "pygments_lexer": "ipython3",
      "nbconvert_exporter": "python",
      "file_extension": ".py"
    }
  },
  "nbformat_minor": 0,
  "nbformat": 4,
  "cells": [
    {
      "cell_type": "markdown",
      "source": [
        "# SEL634 - Laboratório de Robôs Manipuladores\n",
        "\n",
        "## Inicialização da biblioteca\n",
        "\n",
        "Carregar a biblioteca de robótica para Python:"
      ],
      "metadata": {
        "id": "RfOcPjB5LeQA"
      }
    },
    {
      "cell_type": "code",
      "source": [
        "#!python3 -m pip install --user --upgrade pip==20.1\n",
        "!pip install roboticstoolbox-python\n",
        "!pip install spatialmath-python"
      ],
      "metadata": {
        "id": "byi8G6BxLXK7",
        "outputId": "358fb7fc-1415-4edc-b30f-939c8edc88cc",
        "colab": {
          "base_uri": "https://localhost:8080/"
        }
      },
      "execution_count": 1,
      "outputs": [
        {
          "output_type": "stream",
          "name": "stdout",
          "text": [
            "Looking in indexes: https://pypi.org/simple, https://us-python.pkg.dev/colab-wheels/public/simple/\n",
            "Requirement already satisfied: roboticstoolbox-python in /usr/local/lib/python3.7/dist-packages (1.0.1)\n",
            "Requirement already satisfied: spatialgeometry~=1.0.0 in /usr/local/lib/python3.7/dist-packages (from roboticstoolbox-python) (1.0.1)\n",
            "Requirement already satisfied: rtb-data in /usr/local/lib/python3.7/dist-packages (from roboticstoolbox-python) (1.0.0)\n",
            "Requirement already satisfied: numpy>=1.17.4 in /usr/local/lib/python3.7/dist-packages (from roboticstoolbox-python) (1.21.6)\n",
            "Requirement already satisfied: matplotlib in /usr/local/lib/python3.7/dist-packages (from roboticstoolbox-python) (3.2.2)\n",
            "Requirement already satisfied: ansitable in /usr/local/lib/python3.7/dist-packages (from roboticstoolbox-python) (0.9.6)\n",
            "Requirement already satisfied: pgraph-python in /usr/local/lib/python3.7/dist-packages (from roboticstoolbox-python) (0.6.1)\n",
            "Requirement already satisfied: scipy in /usr/local/lib/python3.7/dist-packages (from roboticstoolbox-python) (1.4.1)\n",
            "Requirement already satisfied: spatialmath-python~=1.0.0 in /usr/local/lib/python3.7/dist-packages (from roboticstoolbox-python) (1.0.0)\n",
            "Requirement already satisfied: progress in /usr/local/lib/python3.7/dist-packages (from roboticstoolbox-python) (1.6)\n",
            "Requirement already satisfied: swift-sim~=1.0.0 in /usr/local/lib/python3.7/dist-packages (from roboticstoolbox-python) (1.0.0)\n",
            "Requirement already satisfied: colored in /usr/local/lib/python3.7/dist-packages (from spatialmath-python~=1.0.0->roboticstoolbox-python) (1.4.3)\n",
            "Requirement already satisfied: websockets in /usr/local/lib/python3.7/dist-packages (from swift-sim~=1.0.0->roboticstoolbox-python) (10.3)\n",
            "Requirement already satisfied: kiwisolver>=1.0.1 in /usr/local/lib/python3.7/dist-packages (from matplotlib->roboticstoolbox-python) (1.4.2)\n",
            "Requirement already satisfied: pyparsing!=2.0.4,!=2.1.2,!=2.1.6,>=2.0.1 in /usr/local/lib/python3.7/dist-packages (from matplotlib->roboticstoolbox-python) (3.0.9)\n",
            "Requirement already satisfied: cycler>=0.10 in /usr/local/lib/python3.7/dist-packages (from matplotlib->roboticstoolbox-python) (0.11.0)\n",
            "Requirement already satisfied: python-dateutil>=2.1 in /usr/local/lib/python3.7/dist-packages (from matplotlib->roboticstoolbox-python) (2.8.2)\n",
            "Requirement already satisfied: typing-extensions in /usr/local/lib/python3.7/dist-packages (from kiwisolver>=1.0.1->matplotlib->roboticstoolbox-python) (4.2.0)\n",
            "Requirement already satisfied: six>=1.5 in /usr/local/lib/python3.7/dist-packages (from python-dateutil>=2.1->matplotlib->roboticstoolbox-python) (1.15.0)\n",
            "Looking in indexes: https://pypi.org/simple, https://us-python.pkg.dev/colab-wheels/public/simple/\n",
            "Requirement already satisfied: spatialmath-python in /usr/local/lib/python3.7/dist-packages (1.0.0)\n",
            "Requirement already satisfied: scipy in /usr/local/lib/python3.7/dist-packages (from spatialmath-python) (1.4.1)\n",
            "Requirement already satisfied: matplotlib in /usr/local/lib/python3.7/dist-packages (from spatialmath-python) (3.2.2)\n",
            "Requirement already satisfied: colored in /usr/local/lib/python3.7/dist-packages (from spatialmath-python) (1.4.3)\n",
            "Requirement already satisfied: ansitable in /usr/local/lib/python3.7/dist-packages (from spatialmath-python) (0.9.6)\n",
            "Requirement already satisfied: numpy in /usr/local/lib/python3.7/dist-packages (from spatialmath-python) (1.21.6)\n",
            "Requirement already satisfied: python-dateutil>=2.1 in /usr/local/lib/python3.7/dist-packages (from matplotlib->spatialmath-python) (2.8.2)\n",
            "Requirement already satisfied: kiwisolver>=1.0.1 in /usr/local/lib/python3.7/dist-packages (from matplotlib->spatialmath-python) (1.4.2)\n",
            "Requirement already satisfied: pyparsing!=2.0.4,!=2.1.2,!=2.1.6,>=2.0.1 in /usr/local/lib/python3.7/dist-packages (from matplotlib->spatialmath-python) (3.0.9)\n",
            "Requirement already satisfied: cycler>=0.10 in /usr/local/lib/python3.7/dist-packages (from matplotlib->spatialmath-python) (0.11.0)\n",
            "Requirement already satisfied: typing-extensions in /usr/local/lib/python3.7/dist-packages (from kiwisolver>=1.0.1->matplotlib->spatialmath-python) (4.2.0)\n",
            "Requirement already satisfied: six>=1.5 in /usr/local/lib/python3.7/dist-packages (from python-dateutil>=2.1->matplotlib->spatialmath-python) (1.15.0)\n"
          ]
        }
      ]
    },
    {
      "cell_type": "code",
      "source": [
        "import numpy as np\n",
        "#import roboticstoolbox as rtb\n",
        "from roboticstoolbox import *\n",
        "from spatialmath import *\n",
        "from math import pi\n",
        "import matplotlib.pyplot as plt\n",
        "from matplotlib import cm\n",
        "np.set_printoptions(linewidth=100, formatter={'float': lambda x: f\"{x:8.4g}\" if abs(x) > 1e-10 else f\"{0:8.4g}\"})\n",
        "\n",
        "# no Binder utilizar essa linha\n",
        "%matplotlib notebook  \n",
        "# no Colab utilizar essa linha\n",
        "# %matplotlib inline"
      ],
      "metadata": {
        "id": "GhTb1eOALjKe"
      },
      "execution_count": 2,
      "outputs": []
    },
    {
      "cell_type": "markdown",
      "source": [
        "## Cinemática Direta do Robô Kinova Gen3\n",
        "\n",
        "O robô Kinova Gen3 pode ser modelado pela seguinte função (ver Tarefa 2):"
      ],
      "metadata": {
        "id": "76NHqE5ELmAl"
      }
    },
    {
      "cell_type": "code",
      "source": [
        "def kinova_robot(my_name):\n",
        "  robot = DHRobot(\n",
        "      [\n",
        "       # Colocar seu código aqui para completar a descrição do robô\n",
        "        RevoluteDH(d=-(0.1564+0.1284), alpha=pi/2),\n",
        "            RevoluteDH(d=-(0.0054+0.0064), alpha=pi/2, offset=pi),\n",
        "            RevoluteDH(d=-(0.2104+0.2104), alpha=pi/2, offset=pi),\n",
        "            RevoluteDH(d=-(0.0064+0.0064), alpha=pi/2, offset=pi),\n",
        "            RevoluteDH(d=-(0.2084+0.1059), alpha=pi/2, offset=pi),\n",
        "            RevoluteDH(alpha=pi/2, offset=pi),\n",
        "            RevoluteDH(d=-(0.1059+0.0615), alpha=pi, offset=pi)\n",
        "       ], name=my_name)\n",
        "  H_B0 = SE3.Rz(0)*SE3(0,0,0)*SE3(0,0,0)*SE3.Rx(pi)\n",
        "  robot.base = H_B0\n",
        "  return robot\n"
      ],
      "metadata": {
        "id": "PE8CpE4eMA3K"
      },
      "execution_count": 3,
      "outputs": []
    },
    {
      "cell_type": "markdown",
      "source": [
        "A pose do efetuador do robô Kinova Gen3 é dada em relação a base, $B$, pela função:"
      ],
      "metadata": {
        "id": "gtjvxjQsMJ6P"
      }
    },
    {
      "cell_type": "code",
      "source": [
        "def pose_efetuador(robot, q):\n",
        "  H_B7 = robot.fkine(q)\n",
        "  return H_B7"
      ],
      "metadata": {
        "id": "vRK0cR_TMQFO"
      },
      "execution_count": 4,
      "outputs": []
    },
    {
      "cell_type": "markdown",
      "source": [
        "A biblioteca de robótica permite acessar as **matrizes de transformação homogênea intermediárias do modelo de cinemática direta do robô** (veja [documentação](https://petercorke.github.io/robotics-toolbox-python/arm_dh.html#roboticstoolbox.robot.DHRobot.DHRobot.A)) \n",
        "\n",
        "**É importante notar** que a transformação fixa $^BH_0$ é ignorada para este comando. \n",
        "\n",
        "Por exemplo, seja a variável `robot` o modelo retornado pela função `kinova_robot` criada anteriormente. O comando:\n",
        "\n",
        "```\n",
        "H = robot.A([j1,j2],q)\n",
        "```\n",
        "\n",
        "retorna a matriz de transformação homogênea `H` da junta `j2` em relação a junta `j1` para a configuração do robô `q`. \n",
        "\n",
        "\n",
        "\n",
        "Para obter a matriz de transformação homogênea $^0H_1$ para uma configuração `q` fornecida:\n",
        "```\n",
        "H = robot.A([0,0],q)\n",
        "```\n",
        "\n",
        "OBS: Aparentemente, a versão da biblioteca está considerando que quando se usa `j2=0` está se referindo ao sistema de coordenadas 1. Mas `j1=0` significa o sistema de coordenadas 0.\n",
        "\n",
        "Para obter a matriz de transformação homogênea $^1H_2$ para uma configuração `q` fornecida:\n",
        "```\n",
        "H = robot.A([1,1],q)\n",
        "```\n",
        "\n",
        "Quando o sistema de referência é $0$, outra opção é usar o comando:\n",
        "```\n",
        "H = robot.A(j2,q)\n",
        "```\n",
        "Portanto, para recuperar $^0H_2$ para uma configuração `q` fornecida:\n",
        "```\n",
        "H = robot.A(1,q)\n",
        "```\n",
        "OBS: Aparentemente, a versão da biblioteca está considerando que quando se usa `j2=1` está se referindo ao sistema de coordenadas 2. \n",
        "\n",
        "\n",
        "A biblioteca de robótica possui uma função que retorna o **jacobiano do manipulador** para uma configuração `q`:\n",
        "```\n",
        "J = robot.jacob0(q)\n",
        "```\n",
        "O comando acima retorna o Jacobiano completo $6 \\times N$. \n",
        "\n",
        "Para obter apenas a parte superior do Jacobiano, que está relacionado a velocidade linear:\n",
        "```\n",
        "J = robot.jacob0(q,half='trans')\n",
        "```\n",
        "Para obter apenas a parte inferior do Jacobiano, que está relacionado a velocidade angular:\n",
        "```\n",
        "J = robot.jacob0(q,half='rot')\n",
        "```"
      ],
      "metadata": {
        "id": "Ij6qe5-S2Vis"
      }
    },
    {
      "cell_type": "code",
      "source": [
        "robot = kinova_robot(\"meu_robo\")\n",
        "q = np.array([0,0,0,0,0,0,0])\n",
        "print(\"^0H_1 = \\n\",robot.A([0,0],q)) # matriz ^0H_1\n",
        "print(\"^1H_2 = \\n\",robot.A([1,1],q)) # matriz ^1H_2\n",
        "print(\"^0H_1 = \\n\",robot.A(0,q)) # matriz ^0H_1\n",
        "print(\"^0H_2 = \\n\",robot.A(1,q)) # matriz ^0H_2\n",
        "print(\"J = \\n\",robot.jacob0(q)) # Jacobiano 6xN (para o robô Kinova Gen3, N = 7) considerando q = [0 0 0 0 0 0 0]\n",
        "print(\"Jv = \\n\",robot.jacob0(q,half='trans')) # Jv, parte superior de J (associado à velocidade linear v)\n",
        "print(\"Jw = \\n\",robot.jacob0(q,half='rot')) # Jw, parte inferior de J (associado à velocidade angular w)"
      ],
      "metadata": {
        "id": "c7NeJn033NfD",
        "outputId": "6d8b7dc8-d68b-4ef2-bc62-525ecbd2266a",
        "colab": {
          "base_uri": "https://localhost:8080/"
        }
      },
      "execution_count": 5,
      "outputs": [
        {
          "output_type": "stream",
          "name": "stdout",
          "text": [
            "^0H_1 = \n",
            "    1         0         0         0         \n",
            "   0         0        -1         0         \n",
            "   0         1         0        -0.2848    \n",
            "   0         0         0         1         \n",
            "\n",
            "^1H_2 = \n",
            "   -1         0         0         0         \n",
            "   0         0         1         0         \n",
            "   0         1         0        -0.0118    \n",
            "   0         0         0         1         \n",
            "\n",
            "^0H_1 = \n",
            "    1         0         0         0         \n",
            "   0         0        -1         0         \n",
            "   0         1         0        -0.2848    \n",
            "   0         0         0         1         \n",
            "\n",
            "^0H_2 = \n",
            "   -1         0         0         0         \n",
            "   0        -1         0         0.0118    \n",
            "   0         0         1        -0.2848    \n",
            "   0         0         0         1         \n",
            "\n",
            "J = \n",
            " [[ -0.0246   0.9025  -0.0128   0.4817        0   0.1674        0]\n",
            " [       0        0        0        0        0        0        0]\n",
            " [       0        0        0        0        0        0        0]\n",
            " [       0        0        0        0        0        0        0]\n",
            " [       0        1        0        1        0        1        0]\n",
            " [      -1        0       -1        0       -1        0       -1]]\n",
            "Jv = \n",
            " [[ -0.0246   0.9025  -0.0128   0.4817        0   0.1674        0]\n",
            " [       0        0        0        0        0        0        0]\n",
            " [       0        0        0        0        0        0        0]]\n",
            "Jw = \n",
            " [[       0        0        0        0        0        0        0]\n",
            " [       0        1        0        1        0        1        0]\n",
            " [      -1        0       -1        0       -1        0       -1]]\n"
          ]
        }
      ]
    },
    {
      "cell_type": "markdown",
      "source": [
        "## Trajetória do Robô no Espaço das Juntas\n",
        "\n",
        "Considere que a junta $i$ possui a seguinte trajetória  em graus no tempo que leva a junta $i$ da posição $\\theta_{si}$ até $\\theta_{gi}$ em um dado tempo $T_d$:\n",
        "$$ \\theta_i (t) = c_{0i} + c_{1i} t + c_{2i} t^2 + c_{3i} t^3 + c_{4i} t^4 + c_{5i} t^5 $$\n",
        "Para velocidades e acelerações iniciais e finais iguais a zero, os coeficientes do polinômio são dados em função da posição inicial e final e do intervalo de tempo:\n",
        "\\begin{eqnarray*}\n",
        "\t&c_{0i}& = \\theta_{si}\\\\\n",
        "\t&c_{1i}& = c_{2i} = 0\\\\\n",
        "\t&c_{3i}& = \\frac{10(\\theta_{gi}-\\theta_{si})}{T_d^{3}}\\\\\n",
        "\t&c_{4i}& = \\frac{15(\\theta_{si}-\\theta_{gi})}{T_d^{4}}\\\\\n",
        "\t&c_{5i}& = \\frac{6(\\theta_{gi}-\\theta_{si})}{T_d^{5}}\n",
        "\\end{eqnarray*}\n",
        "\n",
        "A velocidade de cada junta para condições iniciais nulas é dada por:\n",
        "$$ \\dot\\theta_i (t) = c_{1i} + 2c_{2i} t + 3c_{3i} t^2 + 4c_{4i} t^3 + 5c_{5i} t^4 $$\n",
        "\n",
        "A aceleração de cada junta para condições iniciais nulas é dada por:\n",
        "$$ \\ddot\\theta_i (t) = 2c_{2i} + 6c_{3i} t + 12c_{4i} t^2 + 20c_{5i} t^3 $$\n",
        "\n",
        "A função a seguir foi implementada na Tarefa 3 para calcular a trajetória das juntas do manipulador:\n"
      ],
      "metadata": {
        "id": "I2hWmRQG0GNQ"
      }
    },
    {
      "cell_type": "code",
      "source": [
        "def calcular_trajetoria(theta_s, theta_g, Td, dt):\n",
        "  # Coloque seu codigo aqui\n",
        "    N = theta_s.size # Array length\n",
        "    \n",
        "    c0 = theta_s\n",
        "    c1 = np.zeros(N)\n",
        "    c2 = c1\n",
        "    c3 = 10*(theta_g-theta_s)/Td**3\n",
        "    c4 = 15*(theta_s-theta_g)/Td**4\n",
        "    c5 = 6*(theta_g-theta_s)/Td**5\n",
        "    \n",
        "    #print(c1)\n",
        "\n",
        "    start = 0\n",
        "    step = dt\n",
        "    end = Td+step\n",
        "    t = np.arange(start,end,step)\n",
        "    t2 = np.power(t,2)\n",
        "    t3 = np.power(t,3)\n",
        "    t4 = np.power(t,4)\n",
        "    t5 = np.power(t,5)\n",
        "    \n",
        "    M = len(t) # Number of points used in the trajectory discretization\n",
        "    #print(c3)\n",
        "\n",
        "    #here adjust MxN dimensions \n",
        "    # https://numpy.org/doc/stable/user/basics.broadcasting.html\n",
        "    # https://numpy.org/doc/stable/reference/generated/numpy.tile.html?highlight=numpy%20tile#numpy.tile\n",
        "    \n",
        "    tVec = np.transpose(np.tile(t,(N,1)))\n",
        "    tVec2 = np.transpose(np.tile(t2,(N,1)))\n",
        "    tVec3 = np.transpose(np.tile(t3,(N,1)))\n",
        "    tVec4 = np.transpose(np.tile(t4,(N,1)))\n",
        "    tVec5 = np.transpose(np.tile(t5,(N,1)))\n",
        "    \n",
        "    onesVec = np.ones((M,N))\n",
        "    \n",
        "    #print(tVec2)\n",
        "    #print(\"M =\",M)\n",
        "    #print(tVec*c1[np.newaxis,:])\n",
        "    \n",
        "    theta_t = onesVec*c0[np.newaxis,:] + tVec*c1[np.newaxis,:] + tVec2*c2[np.newaxis,:] + tVec3*c3[np.newaxis,:] + tVec4*c4[np.newaxis,:] + tVec5*c5[np.newaxis,:]\n",
        "    dtheta_t = onesVec*c1[np.newaxis,:] + 2*tVec*c2[np.newaxis,:] + 3*tVec2*c3[np.newaxis,:] + 4*tVec3*c4[np.newaxis,:] + 5*tVec4*c5[np.newaxis,:]\n",
        "    ddtheta_t = 2*onesVec*c2[np.newaxis,:] + 2*3*tVec*c3[np.newaxis,:] + 3*4*tVec2*c4[np.newaxis,:]+4*5*tVec3*c5[np.newaxis,:]\n",
        "    return theta_t, dtheta_t, ddtheta_t\n",
        "\n",
        "# Testing the function\n",
        "# theta_s = np.array([0,1,2,3,4,5,6])\n",
        "# theta_g = np.array([1,2,3,4,5,6,7])\n",
        "# Td = 1\n",
        "# dt = 0.1\n",
        "# [theta1, theta2, theta3] = calcular_trajetoria(theta_s,theta_g,Td,dt)\n",
        "# print(theta1)\n",
        "\n",
        "# Multi-line edit: https://stackoverflow.com/questions/60053748/google-colab-edit-two-lines-at-the-same-time"
      ],
      "metadata": {
        "id": "dDkgxSqhNUP3"
      },
      "execution_count": 6,
      "outputs": []
    },
    {
      "cell_type": "markdown",
      "source": [
        "A função a seguir foi implementada na Tarefa 3 para calcular a sequencia no tempo de matrizes de transformação homogênea que representa a pose do robô (posição e orientação do efetuador)"
      ],
      "metadata": {
        "id": "amRIj2OOOKM2"
      }
    },
    {
      "cell_type": "code",
      "source": [
        "def calcular_traj_efetuador(robot, theta_t):\n",
        "  # Coloque seu codigo aqui\n",
        "  # print(\"theta_t = \",theta_t[:,0]) # Testr\n",
        "  HH = pose_efetuador(robot,theta_t)\n",
        "  HHnp = np.array(HH[:].A) # Conversão para np.array\n",
        "  HH_efetuador = HHnp\n",
        "  return HH_efetuador\n",
        "\n",
        "# theta_s = np.array([0,1,2,3,4,5,6])\n",
        "# theta_g = np.array([1,2,3,4,5,6,7])\n",
        "# Td = 1\n",
        "# dt = 0.1\n",
        "# [theta_t, dtheta_t, ddtheta_t] = calcular_trajetoria(theta_s,theta_g,Td,dt)\n",
        "# robot1 = kinova_robot(\"KinovaGen3_P1\")\n",
        "# HH = calcular_traj_efetuador(robot1,theta_t)\n",
        "\n",
        "# print(HH)"
      ],
      "metadata": {
        "id": "d4LVto0AOcWP"
      },
      "execution_count": 7,
      "outputs": []
    },
    {
      "cell_type": "markdown",
      "source": [
        "## 4. Velocidade do Efetuador do Robô Manipulador\n",
        "\n",
        "Na tarefa 4, você vai implementar funções para calcular a velocidade do efetuador do manipulador Kinova Gen3 em relação a sua base $B$.\n",
        "\n",
        "### 4.1 Jacobiano do Manipulador\n",
        "\n",
        "Implemente uma função semelhante àquela disponível na biblioteca de robótica para calcular o Jacobiano do manipulador em relação ao sistema de coordenada $\\{0\\}$. Nesta etapa não considere a transformação homogênea $^BH_0$. \n",
        "\n",
        "**Entrada:** modelo cinemático do robô, e o vetor de configuração do robô em um determinado instante de tempo ($6 \\times 1$).\n",
        "\n",
        "**Saída:** o Jacobinado do efetuador em relação ao sistema de coordenadas $\\{0\\}$ para um instante de tempo, ou seja, matriz $6 \\times N$.\n"
      ],
      "metadata": {
        "id": "98NrriRZ1JX3"
      }
    },
    {
      "cell_type": "code",
      "source": [
        "def calcular_jacobiano(robot,theta):\n",
        "  # Coloque seu codigo aqui\n",
        "\n",
        "  return J_efetuador"
      ],
      "metadata": {
        "id": "rSU3h3ynDJT7"
      },
      "execution_count": 8,
      "outputs": []
    },
    {
      "cell_type": "markdown",
      "source": [
        "### 4.2 Velocidade do Manipulador\n",
        "\n",
        "Implemente uma função que calcula a velocidade do efetuador do Kinova Gen3 em relação a base. Para isso utilize a função implementada no item 4.1.\n",
        "\n",
        "O calculo das velocidades linear e angular do manipulador em relação ao sistema $\\{0\\}$ para um dado instante de tempo é:\n",
        "\n",
        "$$\\begin{bmatrix} ^0v_n(t) \\\\ ^0w_n(t) \\end{bmatrix} = {^0J_n}(q(t)) ~\\dot q(t) $$\n",
        "\n",
        "Como a origem do sistema de coordenadas $\\{0\\}$ e $\\{B\\}$ coincidem, para transformar o vetor de velocidades para o sistema de coordenadas da base $\\{B\\}$:\n",
        "\n",
        "$$ \\begin{bmatrix} ^Bv_n(t) \\\\ ^Bw_n(t) \\end{bmatrix} = {^BR_0}\\begin{bmatrix} ^0v_n(t) \\\\ ^0w_n(t) \\end{bmatrix} $$\n",
        "\n",
        "**Entrada:** modelo cinemático do robô, vetor de configuração do robô no tempo ($N \\times M$), velocidade das juntas do robô no tempo ($N \\times M$), onde $M$ é a quantidade de pontos da trajetória no tempo (ver Tarefa 3).\n",
        "\n",
        "**Saída:** Velocidade linear (m/s) e angular (rad/s) do efetuador em relação ao sistema de coordenadas $\\{B\\}$ ao longo do tempo (matriz $6 \\times M$) "
      ],
      "metadata": {
        "id": "T90-9R_lECug"
      }
    },
    {
      "cell_type": "code",
      "source": [
        "def calcular_vel_efetuador(robot,theta_t,dtheta_t):\n",
        "  # Coloque seu codigo aqui\n",
        "\n",
        "\n",
        "  return V_efetuador"
      ],
      "metadata": {
        "id": "TCpQrm-c7eMF"
      },
      "execution_count": 9,
      "outputs": []
    },
    {
      "cell_type": "markdown",
      "source": [
        "### 4.3 Velocidade do Manipulador - Calculo alternativo\n",
        "\n",
        "Implemente a mesma função anterior, mas utilizando o calculo de Jacobiano feito pela biblioteca de robótica através da função [`jacob0`](https://petercorke.github.io/robotics-toolbox-python/arm_dh.html#roboticstoolbox.robot.DHRobot.DHRobot.jacob0): \n",
        "\n",
        "`J = robot.jacob0(q)`\n",
        "\n"
      ],
      "metadata": {
        "id": "ullyc3GbIMm5"
      }
    },
    {
      "cell_type": "markdown",
      "source": [
        "Possivelmente, da mesma forma como feito no item 4.2, será necessário calcular a as velocidades em relação ao sistema $\\{0\\}$, e então converter para o sistema $\\{B\\}$ utilizando a matriz de rotação ${^BR_0}$."
      ],
      "metadata": {
        "id": "XJNuHHDhINUR"
      }
    },
    {
      "cell_type": "code",
      "source": [
        "def calcular_vel_efetuador_alternativo(robot,theta_t,dtheta_t):\n",
        "  # Coloque seu codigo aqui\n",
        "\n",
        "\n",
        "  return V_efetuador"
      ],
      "metadata": {
        "id": "qD78NA_FImFv"
      },
      "execution_count": 10,
      "outputs": []
    },
    {
      "cell_type": "markdown",
      "source": [
        "### 4.4 Plotar velocidade do efetuador\n",
        "\n",
        "Implemente uma função para gerar dois gráficos: um gráfico para mostrar a evolução no tempo de cada componente da velocidade linear; outro gráfico para mostrar no tempo a evoluçào da velocidade angular. Utilize as funções implementadas no item 4.1 e 4.2.\n"
      ],
      "metadata": {
        "id": "MPUmv89tIrgo"
      }
    },
    {
      "cell_type": "code",
      "source": [
        "def plotar_vel_efetuador(robot, theta_t, dtheta_t, Td, dt):\n",
        "  # Coloque seu codigo aqui"
      ],
      "metadata": {
        "id": "OuRwfICdJHuv",
        "outputId": "e74cb9c5-9ba5-41ee-98b5-805401b21c11",
        "colab": {
          "base_uri": "https://localhost:8080/",
          "height": 132
        }
      },
      "execution_count": 11,
      "outputs": [
        {
          "output_type": "error",
          "ename": "SyntaxError",
          "evalue": "ignored",
          "traceback": [
            "\u001b[0;36m  File \u001b[0;32m\"<ipython-input-11-e280668b00b0>\"\u001b[0;36m, line \u001b[0;32m2\u001b[0m\n\u001b[0;31m    # Coloque seu codigo aqui\u001b[0m\n\u001b[0m                             ^\u001b[0m\n\u001b[0;31mSyntaxError\u001b[0m\u001b[0;31m:\u001b[0m unexpected EOF while parsing\n"
          ]
        }
      ]
    },
    {
      "cell_type": "markdown",
      "source": [
        "Faça outra função para gerar os mesmos gráficos de velocidade, mas utilizando a função implementada no item 4.3."
      ],
      "metadata": {
        "id": "p8IcN-ZxJiJJ"
      }
    },
    {
      "cell_type": "code",
      "source": [
        "def plotar_vel_efetuador_alternativo(robot, theta_t, dtheta_t, Td, dt):\n",
        "  # Coloque seu codigo aqui"
      ],
      "metadata": {
        "id": "ERuIJW27KEIz"
      },
      "execution_count": null,
      "outputs": []
    },
    {
      "cell_type": "markdown",
      "source": [
        "Os gráficos gerados devem ser iguais. "
      ],
      "metadata": {
        "id": "ofFcMwTiKHYN"
      }
    },
    {
      "cell_type": "markdown",
      "source": [
        "### 4.5 Teste das funções\n",
        "\n",
        "Faça o teste das funções do item 4.4 para os seguintes parâmetros: $T_d = 10$ segundos, $\\delta t = 0.01$ segundos,  posição inicial das juntas $\\theta_s = [0, 0, 0, 0, 0, 0, 0]^T$  e posição final das juntas $\\theta_g = [90, 90, 0, -90, 0, 90, 0]^T$ dada em graus."
      ],
      "metadata": {
        "id": "zGrcgsu8OlI_"
      }
    },
    {
      "cell_type": "code",
      "source": [
        "Td = 10.0\n",
        "dt = 0.01\n",
        "theta_s = np.array([0,0,0,0,0,0,0])\n",
        "theta_g = np.array([90,90,0,-90,0,90,0])\n",
        "\n"
      ],
      "metadata": {
        "id": "57dIRjd6Otd-"
      },
      "execution_count": null,
      "outputs": []
    }
  ]
}