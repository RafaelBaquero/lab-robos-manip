{
  "metadata": {
    "colab": {
      "name": "sel0634_tarefa6_2022.ipynb",
      "provenance": []
    },
    "kernelspec": {
      "name": "python3",
      "display_name": "Python 3 (ipykernel)",
      "language": "python"
    },
    "language_info": {
      "name": "python",
      "version": "3.7.12",
      "mimetype": "text/x-python",
      "codemirror_mode": {
        "name": "ipython",
        "version": 3
      },
      "pygments_lexer": "ipython3",
      "nbconvert_exporter": "python",
      "file_extension": ".py"
    }
  },
  "nbformat_minor": 0,
  "nbformat": 4,
  "cells": [
    {
      "cell_type": "markdown",
      "source": [
        "# SEL634 - Laboratório de Robôs Manipuladores\n",
        "\n",
        "## Inicialização da biblioteca\n",
        "\n",
        "Carregar a biblioteca de robótica para Python:"
      ],
      "metadata": {
        "id": "RfOcPjB5LeQA"
      }
    },
    {
      "cell_type": "code",
      "source": [
        "!python3 -m pip install --user --upgrade pip==20.1\n",
        "!pip install roboticstoolbox-python\n",
        "!pip install spatialmath-python"
      ],
      "metadata": {
        "id": "byi8G6BxLXK7",
        "colab": {
          "base_uri": "https://localhost:8080/"
        },
        "outputId": "d04df37a-563a-42cd-a492-3a63fc976e1c"
      },
      "execution_count": 6,
      "outputs": [
        {
          "output_type": "stream",
          "name": "stdout",
          "text": [
            "Looking in indexes: https://pypi.org/simple, https://us-python.pkg.dev/colab-wheels/public/simple/\n",
            "Requirement already up-to-date: pip==20.1 in /root/.local/lib/python3.7/site-packages (20.1)\n",
            "Looking in indexes: https://pypi.org/simple, https://us-python.pkg.dev/colab-wheels/public/simple/\n",
            "Requirement already satisfied: roboticstoolbox-python in /usr/local/lib/python3.7/dist-packages (1.0.2)\n",
            "Requirement already satisfied: spatialgeometry~=1.0.0 in /usr/local/lib/python3.7/dist-packages (from roboticstoolbox-python) (1.0.1)\n",
            "Requirement already satisfied: rtb-data in /usr/local/lib/python3.7/dist-packages (from roboticstoolbox-python) (1.0.0)\n",
            "Requirement already satisfied: swift-sim~=1.0.0 in /usr/local/lib/python3.7/dist-packages (from roboticstoolbox-python) (1.0.0)\n",
            "Requirement already satisfied: progress in /usr/local/lib/python3.7/dist-packages (from roboticstoolbox-python) (1.6)\n",
            "Requirement already satisfied: numpy>=1.17.4 in /usr/local/lib/python3.7/dist-packages (from roboticstoolbox-python) (1.21.6)\n",
            "Requirement already satisfied: ansitable in /usr/local/lib/python3.7/dist-packages (from roboticstoolbox-python) (0.9.6)\n",
            "Requirement already satisfied: pgraph-python in /usr/local/lib/python3.7/dist-packages (from roboticstoolbox-python) (0.6.1)\n",
            "Requirement already satisfied: matplotlib in /usr/local/lib/python3.7/dist-packages (from roboticstoolbox-python) (3.2.2)\n",
            "Requirement already satisfied: scipy in /usr/local/lib/python3.7/dist-packages (from roboticstoolbox-python) (1.7.3)\n",
            "Requirement already satisfied: spatialmath-python~=1.0.0 in /usr/local/lib/python3.7/dist-packages (from roboticstoolbox-python) (1.0.0)\n",
            "Requirement already satisfied: websockets in /usr/local/lib/python3.7/dist-packages (from swift-sim~=1.0.0->roboticstoolbox-python) (10.3)\n",
            "Requirement already satisfied: colored in /usr/local/lib/python3.7/dist-packages (from ansitable->roboticstoolbox-python) (1.4.3)\n",
            "Requirement already satisfied: kiwisolver>=1.0.1 in /usr/local/lib/python3.7/dist-packages (from matplotlib->roboticstoolbox-python) (1.4.3)\n",
            "Requirement already satisfied: cycler>=0.10 in /usr/local/lib/python3.7/dist-packages (from matplotlib->roboticstoolbox-python) (0.11.0)\n",
            "Requirement already satisfied: python-dateutil>=2.1 in /usr/local/lib/python3.7/dist-packages (from matplotlib->roboticstoolbox-python) (2.8.2)\n",
            "Requirement already satisfied: pyparsing!=2.0.4,!=2.1.2,!=2.1.6,>=2.0.1 in /usr/local/lib/python3.7/dist-packages (from matplotlib->roboticstoolbox-python) (3.0.9)\n",
            "Requirement already satisfied: typing-extensions; python_version < \"3.8\" in /usr/local/lib/python3.7/dist-packages (from kiwisolver>=1.0.1->matplotlib->roboticstoolbox-python) (4.1.1)\n",
            "Requirement already satisfied: six>=1.5 in /usr/local/lib/python3.7/dist-packages (from python-dateutil>=2.1->matplotlib->roboticstoolbox-python) (1.15.0)\n",
            "Looking in indexes: https://pypi.org/simple, https://us-python.pkg.dev/colab-wheels/public/simple/\n",
            "Requirement already satisfied: spatialmath-python in /usr/local/lib/python3.7/dist-packages (1.0.0)\n",
            "Requirement already satisfied: ansitable in /usr/local/lib/python3.7/dist-packages (from spatialmath-python) (0.9.6)\n",
            "Requirement already satisfied: scipy in /usr/local/lib/python3.7/dist-packages (from spatialmath-python) (1.7.3)\n",
            "Requirement already satisfied: matplotlib in /usr/local/lib/python3.7/dist-packages (from spatialmath-python) (3.2.2)\n",
            "Requirement already satisfied: colored in /usr/local/lib/python3.7/dist-packages (from spatialmath-python) (1.4.3)\n",
            "Requirement already satisfied: numpy in /usr/local/lib/python3.7/dist-packages (from spatialmath-python) (1.21.6)\n",
            "Requirement already satisfied: pyparsing!=2.0.4,!=2.1.2,!=2.1.6,>=2.0.1 in /usr/local/lib/python3.7/dist-packages (from matplotlib->spatialmath-python) (3.0.9)\n",
            "Requirement already satisfied: cycler>=0.10 in /usr/local/lib/python3.7/dist-packages (from matplotlib->spatialmath-python) (0.11.0)\n",
            "Requirement already satisfied: kiwisolver>=1.0.1 in /usr/local/lib/python3.7/dist-packages (from matplotlib->spatialmath-python) (1.4.3)\n",
            "Requirement already satisfied: python-dateutil>=2.1 in /usr/local/lib/python3.7/dist-packages (from matplotlib->spatialmath-python) (2.8.2)\n",
            "Requirement already satisfied: typing-extensions; python_version < \"3.8\" in /usr/local/lib/python3.7/dist-packages (from kiwisolver>=1.0.1->matplotlib->spatialmath-python) (4.1.1)\n",
            "Requirement already satisfied: six>=1.5 in /usr/local/lib/python3.7/dist-packages (from python-dateutil>=2.1->matplotlib->spatialmath-python) (1.15.0)\n"
          ]
        }
      ]
    },
    {
      "cell_type": "code",
      "source": [
        "import numpy as np\n",
        "#import roboticstoolbox as rtb\n",
        "from roboticstoolbox import *\n",
        "from spatialmath import *\n",
        "from spatialmath.base import *\n",
        "from math import pi\n",
        "import matplotlib.pyplot as plt\n",
        "from matplotlib import cm\n",
        "#np.set_printoptions(linewidth=100, formatter={'float': lambda x: f\"{x:8.4g}\" if abs(x) > 1e-10 else f\"{0:8.4g}\"})\n",
        "from mpl_toolkits import mplot3d\n",
        "\n",
        "# no Binder utilizar essa linha\n",
        "# %matplotlib notebook  \n",
        "# no Colab utilizar essa linha\n",
        "%matplotlib inline"
      ],
      "metadata": {
        "id": "GhTb1eOALjKe"
      },
      "execution_count": 7,
      "outputs": []
    },
    {
      "cell_type": "markdown",
      "source": [
        "## Cinemática Direta do Robô Kinova Gen3\n",
        "\n",
        "O robô Kinova Gen3 pode ser modelado pela seguinte função (ver Tarefa 2):"
      ],
      "metadata": {
        "id": "76NHqE5ELmAl"
      }
    },
    {
      "cell_type": "code",
      "source": [
        "def kinova_robot(my_name):\n",
        "  robot = DHRobot(\n",
        "      [\n",
        "       # Colocar seu código aqui para completar a descrição do robô\n",
        "        RevoluteDH(d=-(0.1564+0.1284), alpha=pi/2),\n",
        "            RevoluteDH(d=-(0.0054+0.0064), alpha=pi/2, offset=pi),\n",
        "            RevoluteDH(d=-(0.2104+0.2104), alpha=pi/2, offset=pi),\n",
        "            RevoluteDH(d=-(0.0064+0.0064), alpha=pi/2, offset=pi),\n",
        "            RevoluteDH(d=-(0.2084+0.1059), alpha=pi/2, offset=pi),\n",
        "            RevoluteDH(alpha=pi/2, offset=pi),\n",
        "            RevoluteDH(d=-(0.1059+0.0615), alpha=pi, offset=pi)\n",
        "       ], name=my_name)\n",
        "  H_B0 = SE3.Rz(0)*SE3(0,0,0)*SE3(0,0,0)*SE3.Rx(pi)\n",
        "  robot.base = H_B0\n",
        "  return robot\n"
      ],
      "metadata": {
        "id": "PE8CpE4eMA3K"
      },
      "execution_count": 8,
      "outputs": []
    },
    {
      "cell_type": "markdown",
      "source": [
        "A pose do efetuador do robô Kinova Gen3 é dada em relação a base, $B$, pela função:"
      ],
      "metadata": {
        "id": "gtjvxjQsMJ6P"
      }
    },
    {
      "cell_type": "code",
      "source": [
        "def pose_efetuador(robot, q):\n",
        "  H_B7 = robot.fkine(q)\n",
        "  return H_B7"
      ],
      "metadata": {
        "id": "vRK0cR_TMQFO"
      },
      "execution_count": 9,
      "outputs": []
    },
    {
      "cell_type": "markdown",
      "source": [
        "## Trajetória do Robô no Espaço das Juntas\n",
        "\n",
        "Considere que a junta $i$ possui a seguinte trajetória  em graus no tempo que leva a junta $i$ da posição $\\theta_{si}$ até $\\theta_{gi}$ em um dado tempo $T_d$:\n",
        "$$ \\theta_i (t) = c_{0i} + c_{1i} t + c_{2i} t^2 + c_{3i} t^3 + c_{4i} t^4 + c_{5i} t^5 $$\n",
        "Para velocidades e acelerações iniciais e finais iguais a zero, os coeficientes do polinômio são dados em função da posição inicial e final e do intervalo de tempo:\n",
        "\\begin{eqnarray*}\n",
        "\t&c_{0i}& = \\theta_{si}\\\\\n",
        "\t&c_{1i}& = c_{2i} = 0\\\\\n",
        "\t&c_{3i}& = \\frac{10(\\theta_{gi}-\\theta_{si})}{T_d^{3}}\\\\\n",
        "\t&c_{4i}& = \\frac{15(\\theta_{si}-\\theta_{gi})}{T_d^{4}}\\\\\n",
        "\t&c_{5i}& = \\frac{6(\\theta_{gi}-\\theta_{si})}{T_d^{5}}\n",
        "\\end{eqnarray*}\n",
        "\n",
        "A velocidade de cada junta para condições iniciais nulas é dada por:\n",
        "$$ \\dot\\theta_i (t) = c_{1i} + 2c_{2i} t + 3c_{3i} t^2 + 4c_{4i} t^3 + 5c_{5i} t^4 $$\n",
        "\n",
        "A aceleração de cada junta para condições iniciais nulas é dada por:\n",
        "$$ \\ddot\\theta_i (t) = 2c_{2i} + 6c_{3i} t + 12c_{4i} t^2 + 20c_{5i} t^3 $$\n",
        "\n",
        "A função a seguir foi implementada na Tarefa 3 para calcular a trajetória das juntas do manipulador:\n"
      ],
      "metadata": {
        "id": "I2hWmRQG0GNQ"
      }
    },
    {
      "cell_type": "code",
      "source": [
        "def calcular_trajetoria(theta_s, theta_g, Td, dt):\n",
        "  # Coloque seu codigo aqui\n",
        "    N = theta_s.size # Array length\n",
        "    \n",
        "    c0 = theta_s\n",
        "    c1 = np.zeros(N)\n",
        "    c2 = c1\n",
        "    c3 = 10*(theta_g-theta_s)/Td**3\n",
        "    c4 = 15*(theta_s-theta_g)/Td**4\n",
        "    c5 = 6*(theta_g-theta_s)/Td**5\n",
        "    \n",
        "    #print(c1)\n",
        "\n",
        "    start = 0\n",
        "    step = dt\n",
        "    end = Td+step\n",
        "    t = np.arange(start,end,step)\n",
        "    t2 = np.power(t,2)\n",
        "    t3 = np.power(t,3)\n",
        "    t4 = np.power(t,4)\n",
        "    t5 = np.power(t,5)\n",
        "    \n",
        "    M = len(t) # Number of points used in the trajectory discretization\n",
        "    #print(c3)\n",
        "\n",
        "    #here adjust MxN dimensions \n",
        "    # https://numpy.org/doc/stable/user/basics.broadcasting.html\n",
        "    # https://numpy.org/doc/stable/reference/generated/numpy.tile.html?highlight=numpy%20tile#numpy.tile\n",
        "    \n",
        "    tVec = np.transpose(np.tile(t,(N,1)))\n",
        "    tVec2 = np.transpose(np.tile(t2,(N,1)))\n",
        "    tVec3 = np.transpose(np.tile(t3,(N,1)))\n",
        "    tVec4 = np.transpose(np.tile(t4,(N,1)))\n",
        "    tVec5 = np.transpose(np.tile(t5,(N,1)))\n",
        "    \n",
        "    onesVec = np.ones((M,N))\n",
        "    \n",
        "    #print(tVec2)\n",
        "    #print(\"M =\",M)\n",
        "    #print(tVec*c1[np.newaxis,:])\n",
        "    \n",
        "    theta_t = onesVec*c0[np.newaxis,:] + tVec*c1[np.newaxis,:] + tVec2*c2[np.newaxis,:] + tVec3*c3[np.newaxis,:] + tVec4*c4[np.newaxis,:] + tVec5*c5[np.newaxis,:]\n",
        "    dtheta_t = onesVec*c1[np.newaxis,:] + 2*tVec*c2[np.newaxis,:] + 3*tVec2*c3[np.newaxis,:] + 4*tVec3*c4[np.newaxis,:] + 5*tVec4*c5[np.newaxis,:]\n",
        "    ddtheta_t = 2*onesVec*c2[np.newaxis,:] + 2*3*tVec*c3[np.newaxis,:] + 3*4*tVec2*c4[np.newaxis,:]+4*5*tVec3*c5[np.newaxis,:]\n",
        "    return theta_t, dtheta_t, ddtheta_t\n",
        "\n",
        "# Testing the function\n",
        "q_s = np.array([0,10,20,30,40,50,60])*pi/180\n",
        "q_g = np.array([10,20,30,40,50,60,70])*pi/180\n",
        "Td = 1\n",
        "dt = 0.1\n",
        "[theta1, theta2, theta3] = calcular_trajetoria(q_s,q_g,Td,dt)\n",
        "print(\"q_t = \",theta1*180/pi)\n",
        "\n",
        "# Multi-line edit: https://stackoverflow.com/questions/60053748/google-colab-edit-two-lines-at-the-same-time\n",
        "\n",
        "# plotar_trajetoria_cartesiano_resultado(robot1, theta1, dt, Td)"
      ],
      "metadata": {
        "id": "dDkgxSqhNUP3",
        "colab": {
          "base_uri": "https://localhost:8080/"
        },
        "outputId": "99ca22f4-4338-468f-a5d7-612b237ff767"
      },
      "execution_count": 10,
      "outputs": [
        {
          "output_type": "stream",
          "name": "stdout",
          "text": [
            "q_t =  [[ 0.     10.     20.     30.     40.     50.     60.    ]\n",
            " [ 0.0856 10.0856 20.0856 30.0856 40.0856 50.0856 60.0856]\n",
            " [ 0.5792 10.5792 20.5792 30.5792 40.5792 50.5792 60.5792]\n",
            " [ 1.6308 11.6308 21.6308 31.6308 41.6308 51.6308 61.6308]\n",
            " [ 3.1744 13.1744 23.1744 33.1744 43.1744 53.1744 63.1744]\n",
            " [ 5.     15.     25.     35.     45.     55.     65.    ]\n",
            " [ 6.8256 16.8256 26.8256 36.8256 46.8256 56.8256 66.8256]\n",
            " [ 8.3692 18.3692 28.3692 38.3692 48.3692 58.3692 68.3692]\n",
            " [ 9.4208 19.4208 29.4208 39.4208 49.4208 59.4208 69.4208]\n",
            " [ 9.9144 19.9144 29.9144 39.9144 49.9144 59.9144 69.9144]\n",
            " [10.     20.     30.     40.     50.     60.     70.    ]]\n"
          ]
        }
      ]
    },
    {
      "cell_type": "markdown",
      "source": [
        "A função a seguir foi implementada na Tarefa 3 para calcular a sequencia no tempo de matrizes de transformação homogênea que representa a pose do robô (posição e orientação do efetuador)"
      ],
      "metadata": {
        "id": "amRIj2OOOKM2"
      }
    },
    {
      "cell_type": "code",
      "source": [
        "def calcular_traj_efetuador(robot, theta_t):\n",
        "  # Coloque seu codigo aqui\n",
        "  # print(\"theta_t = \",theta_t[:,0]) # Testr\n",
        "  HH = pose_efetuador(robot,theta_t)\n",
        "  HHnp = np.array(HH[:].A) # Conversão para np.array\n",
        "  HH_efetuador = HHnp\n",
        "  return HH_efetuador\n",
        "\n",
        "# theta_s = np.array([0,1,2,3,4,5,6])\n",
        "# theta_g = np.array([1,2,3,4,5,6,7])\n",
        "# Td = 1\n",
        "# dt = 0.1\n",
        "# [theta_t, dtheta_t, ddtheta_t] = calcular_trajetoria(theta_s,theta_g,Td,dt)\n",
        "# robot1 = kinova_robot(\"KinovaGen3_P1\")\n",
        "# HH = calcular_traj_efetuador(robot1,theta_t)\n",
        "\n",
        "# print(HH)"
      ],
      "metadata": {
        "id": "d4LVto0AOcWP"
      },
      "execution_count": 11,
      "outputs": []
    },
    {
      "cell_type": "markdown",
      "source": [
        "## Velocidade do Efetuador do Robô Manipulador\n",
        "\n",
        "Na tarefa 4 você implementou as seguintes funções para calcular o Jacobiano do manipulador: \n"
      ],
      "metadata": {
        "id": "98NrriRZ1JX3"
      }
    },
    {
      "cell_type": "code",
      "source": [
        "def calcular_jacobiano(robot,theta):\n",
        "  # Nosso objetivo é chegar na seguinte matriz:\n",
        "  # Jref = robot.jacob0(theta)\n",
        "  # print(\"Jref = \\n\",Jref) # Jacobiano 6xN \n",
        "  # print(\"\\n\")\n",
        "\n",
        "  # Coloque seu codigo aqui\n",
        "  N = theta.shape[0]\n",
        "  d = list() # Dica do Vinícius\n",
        "  R = list()\n",
        "\n",
        "  d.append(np.array([0,0,0])) # ^0d_0\n",
        "  R.append(np.identity(3)) # ^0R_0\n",
        "\n",
        "  for i in range(N):\n",
        "    Hi = robot.A(i,theta)\n",
        "    # print(\"H\"+str(i)+\"= \\n\",Hi,\"\\n\")\n",
        "    R.append(Hi.R) # R.append(SO3(robot.A(i,theta)))\n",
        "    d.append(Hi.t)\n",
        "\n",
        "  # O robô Kinova Gen3 possui apenas matrizes de rotação.\n",
        "\n",
        "  # Submatrizes Jv (velocidade linear)\n",
        "  Jv = list()\n",
        "  for i in range(N):\n",
        "    zi = R[i][:,2] # podemos usar skew, da spatialmath.base, ou np.cross\n",
        "    xProd = np.dot(skew(zi),(d[N]-d[i])) # J_{vi} = ^0z_{i−1} × ^0o_n − ^0o_{i−1}, d[N] = d[7], que corresponde às coordenadas do efetuador em relação a {0}.\n",
        "    Jv.append(xProd)\n",
        "\n",
        "  # Submatrizes Jw (velocidade angular)\n",
        "  Jw = list()\n",
        "  for i in range(N):\n",
        "    Jw.append(R[i][:,2])\n",
        "\n",
        "  J_efetuador = np.zeros((6,N)) # Matriz de 0s de dimensão 6xN\n",
        "\n",
        "  # Montando a matriz Jacobiana\n",
        "\n",
        "  for i in range(N):\n",
        "    J_efetuador[0:3,i] = Jv[i]\n",
        "    J_efetuador[3:6,i] = Jw[i]\n",
        "\n",
        "  return J_efetuador\n",
        "\n",
        "# Teste da função\n",
        "theta_s = np.array([0,1,2,3,4,5,6])\n",
        "robot1 = kinova_robot(\"KinovaGen3_P1\")\n",
        "Jteste = calcular_jacobiano(robot1,theta_s)\n",
        "print(\"test\\n\")\n",
        "print(\"J = \\n\",Jteste)"
      ],
      "metadata": {
        "id": "rSU3h3ynDJT7",
        "colab": {
          "base_uri": "https://localhost:8080/"
        },
        "outputId": "9e3f6e9d-d984-48e0-d561-09fad271a5bb"
      },
      "execution_count": 12,
      "outputs": [
        {
          "output_type": "stream",
          "name": "stdout",
          "text": [
            "test\n",
            "\n",
            "J = \n",
            " [[ 9.21115906e-02  1.10093191e-01  5.61436720e-02  1.28307566e-01\n",
            "  -6.41651857e-02 -1.24385526e-01 -1.04083409e-17]\n",
            " [-1.38509453e-02 -8.48125790e-19 -1.00123924e-01 -3.39142083e-01\n",
            "   6.56960350e-02  6.34940309e-02  5.20417043e-18]\n",
            " [ 0.00000000e+00 -1.38509453e-02  8.74385885e-02  1.02066576e-01\n",
            "  -1.31661650e-01  9.23011862e-02  0.00000000e+00]\n",
            " [ 0.00000000e+00  0.00000000e+00 -8.41470985e-01  4.91295496e-01\n",
            "   8.64780103e-01 -3.99723507e-01  5.36756076e-01]\n",
            " [ 0.00000000e+00 -1.00000000e+00 -2.81483655e-17  4.16146837e-01\n",
            "  -1.28320060e-01  4.09260087e-01  8.29844122e-01]\n",
            " [ 1.00000000e+00  6.12323400e-17  5.40302306e-01  7.65147401e-01\n",
            "  -4.85478461e-01 -8.20199548e-01  1.52484913e-01]]\n"
          ]
        }
      ]
    },
    {
      "cell_type": "markdown",
      "source": [
        "Na tarefa 4, você implementou uma função que calcula a velocidade do efetuador do manipulador Kinova Gen3 em relação a sua base $B$.\n",
        "\n",
        "O calculo das velocidades linear e angular do manipulador em relação ao sistema $\\{0\\}$ para um dado instante de tempo é:\n",
        "\n",
        "$$\\begin{bmatrix} ^0v_n(t) \\\\ ^0w_n(t) \\end{bmatrix} = {^0J_n}(q(t)) ~\\dot q(t) $$\n",
        "\n",
        "Como a origem do sistema de coordenadas $\\{0\\}$ e $\\{B\\}$ coincidem, para transformar o vetor de velocidades para o sistema de coordenadas da base $\\{B\\}$:\n",
        "\n",
        "$$ \\begin{bmatrix} ^Bv_n(t) \\\\ ^Bw_n(t) \\end{bmatrix} = {^BR_0}\\begin{bmatrix} ^0v_n(t) \\\\ ^0w_n(t) \\end{bmatrix} $$\n",
        "\n"
      ],
      "metadata": {
        "id": "T90-9R_lECug"
      }
    },
    {
      "cell_type": "code",
      "source": [
        "def calcular_vel_efetuador(robot,theta_t,dtheta_t):\n",
        "  # Coloque seu codigo aqui\n",
        "  H_B0 = robot.base\n",
        "  # print(H_B0)\n",
        "  M = theta_t.shape[0]\n",
        "\n",
        "  v_efetuador = np.zeros((3,M))\n",
        "  w_efetuador = np.zeros((3,M)) # Inicialização das matrizes de saída\n",
        "  # Atenção: não usar w_efetuador = v_efetuador! Por algum motivo, isso gera distorções quando os valores de interesse são atribuídos.\n",
        "  # V_efetuador = np.vstack((v_efetuador,w_efetuador))\n",
        "  # print(V_efetuador.shape)\n",
        "\n",
        "  # Jteste = calcular_jacobiano(robot,theta_t[0])\n",
        "  # J_B0v = np.dot(H_B0.R,Jteste[0:3,:])\n",
        "  # J_B0w = np.dot(H_B0.R,Jteste[3:6,:])\n",
        "  # print(\"J_B0v = \\n\",J_B0v)\n",
        "  # print(\"J_B0w = \\n\",J_B0w)\n",
        "  # lin_velv = np.dot(J_B0v,dtheta_t[0])\n",
        "  # ang_velw = np.dot(J_B0w,dtheta_t[0])\n",
        "  # print(\"lin_velv = \\n\",lin_velv)\n",
        "  # print(\"ang_velw = \\n\",ang_velw)\n",
        "\n",
        "  for i in range(M):\n",
        "    Jac = calcular_jacobiano(robot,theta_t[i])\n",
        "    J_B0v = np.dot(H_B0.R,Jac[0:3,:]) # Obtendo J das velocidades lineares, Jv, em relação à base B\n",
        "    v_efetuador[:,i] = np.dot(J_B0v,dtheta_t[i])\n",
        "    J_B0w = np.dot(H_B0.R,Jac[3:6,:]) # Obtendo J das velocidades angulares, Jw, em relação à base B\n",
        "    w_efetuador[:,i] = np.dot(J_B0w,dtheta_t[i])\n",
        "    \n",
        "    # print(\"\\n\",np.dot(J_B0v,dtheta_t[i]))\n",
        "    # print(v_efetuador[:,i],\"\\n\")    \n",
        "    # print(\"\\n\",np.dot(J_B0w,dtheta_t[i]))\n",
        "    # print(w_efetuador[:,i],\"\\n\")\n",
        "\n",
        "  V_efetuador = np.vstack((v_efetuador,w_efetuador))\n",
        "  return V_efetuador\n",
        "\n",
        "# Testing the function\n",
        "theta_s = np.array([0,1,2,3,4,5,6])\n",
        "theta_g = np.array([1,2,3,4,5,6,7])\n",
        "Td = 0.9\n",
        "dt = 0.1\n",
        "[theta_t, dtheta_t, ddtheta_t] = calcular_trajetoria(theta_s,theta_g,Td,dt)\n",
        "robot1 = kinova_robot(\"KinovaGen3_P1\")\n",
        "V_efetuador = calcular_vel_efetuador(robot1,theta_t,dtheta_t)\n",
        "# print(V_efetuador)\n",
        "\n",
        "# Autocomplete suggestions in Colab: https://stackoverflow.com/questions/52438415/is-it-possible-to-have-autocomplete-in-a-notebook-in-google-colab"
      ],
      "metadata": {
        "id": "TCpQrm-c7eMF"
      },
      "execution_count": 13,
      "outputs": []
    },
    {
      "cell_type": "markdown",
      "source": [
        "## 5. Controle de Trajetória do Efetuador no Espaço Cartesiano\n",
        "\n",
        "**Aviso:** Esta é uma versão preliminar do documento que está sujeita a revisão. Estou procurando deixar a descrição desta tarefa mais clara e completa.\n",
        "\n",
        "Nesta tarefa você irá implementar um conjunto de funções que possibilitam o controle da posição do efetuador no espaço cartesiano. Isso permite que o efetuador possa descrever uma trajetória reta no espaço 3D cartesiano.\n",
        "\n",
        "### 5.1 Descrição de uma trajetória reta no espaço cartesiano\n",
        "\n",
        "Considere uma trajetória descrita por um seguimento de reta no espaço cartesiano que tem início no ponto 3D, $\\mathbf{^Bx_s} = [x_s, y_s, z_s]^T$, e término no ponto 3D, $\\mathbf{^Bx_g} = [x_g, y_g, z_g]^T$, ambos representados no sistema de coordenadas da base $\\{B\\}$. A velocidade linear do efetuador no inicio e fim da trajetória devem ser iguais a $0$. \n",
        "\n",
        "Quando a velocidade inicial e final do ponto é zero, a trajetória do ponto 3D a ser executada pode ser representada por um polinômio de quinta ordem no tempo:\n",
        "\n",
        "$$ \\mathbf{x} (t) = c_{0} + c_{1} t + c_{2} t^2 + c_{3} t^3 + c_{4} t^4 + c_{5} t^5 $$\n",
        "Para velocidades e acelerações iniciais e finais iguais a zero, os coeficientes do polinômio são dados em função da posição inicial e final e do intervalo de tempo $T_d$:\n",
        "\\begin{eqnarray*}\n",
        "\t&c_{0}& = \\mathbf{x_s}\\\\\n",
        "\t&c_{1}& = c_{2i} = 0\\\\\n",
        "\t&c_{3}& = \\frac{10(\\mathbf{x_g}-\\mathbf{x_s})}{T_d^{3}}\\\\\n",
        "\t&c_{4}& = \\frac{15(\\mathbf{x_s}-\\mathbf{x_g})}{T_d^{4}}\\\\\n",
        "\t&c_{5}& = \\frac{6(\\mathbf{x_g}-\\mathbf{x_s})}{T_d^{5}}\n",
        "\\end{eqnarray*}\n",
        "\n",
        "Observe que $\\mathbf{x_s}$ e $\\mathbf{x_g}$ tem dimensão $3 \\times 1$, e portanto, os coeficientes $c_0$, $c_1$, $c_2$, $c_3$, $c_4$, $c_5$ também possuem dimensão $3 \\times 1$. \n",
        "\n",
        "A velocidade linear do efetuador para condições iniciais nulas é dada por:\n",
        "$$ \\mathbf{\\dot  x} (t) = c_{1} + 2c_{2} t + 3c_{3} t^2 + 4c_{4} t^3 + 5c_{5} t^4 $$\n",
        "\n",
        "Importante ressaltar, que a trajetória de quinta ordem no espaço cartesianos não será uma reta quando as velocidades iniciais ou finais foram diferentes de zero.\n",
        "\n",
        "Para que não seja necessário utilizar a cinemática inversa do robô manipulador, nessa tarefa você irá considerar que a configuração inicial e final do robô foram dadas, ou seja, $\\mathbf{q_s}$ e $\\mathbf{q_g}$. Então, utilizando a função `pose_efetuador(robot, q)`, você irá obter a posição inicial $\\mathbf{x_s}$ e posição final $\\mathbf{x_g}$ do efetuador.\n",
        "\n",
        "Complete o código a seguir para implementar uma função que retorna os pontos $\\mathbf{x}(t)$ da trajetória do efetuador e as velocidades lineares do efetuador $\\mathbf{\\dot x}(t)$.\n",
        "\n",
        "\n"
      ],
      "metadata": {
        "id": "Vpbqdpnhn0Bv"
      }
    },
    {
      "cell_type": "code",
      "source": [
        "def calcular_trajetoria_cartesiano(robot, q_s, q_g, Td, dt):\n",
        "  # Coloque seu codigo aqui\n",
        "  Hs = pose_efetuador(robot,q_s) # posição inicial do efetuador\n",
        "  Hg = pose_efetuador(robot,q_g) # posição final do efetuador\n",
        "\n",
        "  x_s = Hs.t\n",
        "  # print(\"x_s = \",x_s)\n",
        "  x_g = Hg.t\n",
        "  # print(\"x_g = \",x_g)\n",
        "\n",
        "  Ndim = x_s.size # 3 dimensões, xyz\n",
        "\n",
        "  c0 = x_s\n",
        "  c1 = np.zeros(Ndim)\n",
        "  c2 = c1\n",
        "  c3 = 10*(x_g-x_s)/Td**3\n",
        "  c4 = 15*(x_s-x_g)/Td**4\n",
        "  c5 = 6*(x_g-x_s)/Td**5\n",
        "\n",
        "  start = 0\n",
        "  step = dt\n",
        "  end = Td+step\n",
        "  t = np.arange(start,end,step)\n",
        "  t2 = np.power(t,2)\n",
        "  t3 = np.power(t,3)\n",
        "  t4 = np.power(t,4)\n",
        "  t5 = np.power(t,5)\n",
        "    \n",
        "  M = len(t) # Number of points used in the trajectory discretization\n",
        "  \n",
        "  tVec = np.transpose(np.tile(t,(Ndim,1)))\n",
        "  tVec2 = np.transpose(np.tile(t2,(Ndim,1)))\n",
        "  tVec3 = np.transpose(np.tile(t3,(Ndim,1)))\n",
        "  tVec4 = np.transpose(np.tile(t4,(Ndim,1)))\n",
        "  tVec5 = np.transpose(np.tile(t5,(Ndim,1)))\n",
        "    \n",
        "  onesVec = np.ones((M,Ndim))\n",
        "\n",
        "  x_t = onesVec*c0[np.newaxis,:] + tVec*c1[np.newaxis,:] + tVec2*c2[np.newaxis,:] + tVec3*c3[np.newaxis,:] + tVec4*c4[np.newaxis,:] + tVec5*c5[np.newaxis,:]\n",
        "  dx_t = onesVec*c1[np.newaxis,:] + 2*tVec*c2[np.newaxis,:] + 3*tVec2*c3[np.newaxis,:] + 4*tVec3*c4[np.newaxis,:] + 5*tVec4*c5[np.newaxis,:]\n",
        "  ddx_t = 2*onesVec*c2[np.newaxis,:] + 2*3*tVec*c3[np.newaxis,:] + 3*4*tVec2*c4[np.newaxis,:]+4*5*tVec3*c5[np.newaxis,:]\n",
        "  # print(ddx_t)\n",
        "\n",
        "  return x_t, dx_t\n",
        "\n",
        "# Testing the function\n",
        "q_s = np.array([0,10,20,30,40,50,60])*pi/180\n",
        "q_g = np.array([10,20,30,40,50,60,70])*pi/180\n",
        "\n",
        "Td = 0.9\n",
        "dt = 0.1\n",
        "robot1 = kinova_robot(\"KinovaGen3_P1\")\n",
        "[x_t, dx_t] = calcular_trajetoria_cartesiano(robot1,q_s,q_g,Td,dt)\n",
        "\n",
        "print(\"x_t = \\n\",x_t)\n",
        "print(\"dx_t = \\n\",dx_t)\n"
      ],
      "metadata": {
        "id": "E3FOXqfwvhRz",
        "colab": {
          "base_uri": "https://localhost:8080/"
        },
        "outputId": "b0e585f7-7e6c-426a-93e1-ec8011c5b55f"
      },
      "execution_count": 14,
      "outputs": [
        {
          "output_type": "stream",
          "name": "stdout",
          "text": [
            "x_t = \n",
            " [[ 0.36986035 -0.20253187  0.96801523]\n",
            " [ 0.36997844 -0.20427931  0.96647768]\n",
            " [ 0.37064276 -0.21410967  0.95782807]\n",
            " [ 0.37200939 -0.23433234  0.94003441]\n",
            " [ 0.37392226 -0.26263792  0.9151287 ]\n",
            " [ 0.37603801 -0.29394573  0.88758137]\n",
            " [ 0.37795087 -0.32225131  0.86267566]\n",
            " [ 0.3793175  -0.34247398  0.844882  ]\n",
            " [ 0.37998183 -0.35230434  0.83623239]\n",
            " [ 0.38009992 -0.35405179  0.83469484]]\n",
            "dx_t = \n",
            " [[ 0.00000000e+00  0.00000000e+00  0.00000000e+00]\n",
            " [ 3.32943487e-03 -4.92672608e-02 -4.33496181e-02]\n",
            " [ 1.01963943e-02 -1.50880986e-01 -1.32758205e-01]\n",
            " [ 1.68552640e-02 -2.49415508e-01 -2.19457442e-01]\n",
            " [ 2.08089679e-02 -3.07920380e-01 -2.70935113e-01]\n",
            " [ 2.08089679e-02 -3.07920380e-01 -2.70935113e-01]\n",
            " [ 1.68552640e-02 -2.49415508e-01 -2.19457442e-01]\n",
            " [ 1.01963943e-02 -1.50880986e-01 -1.32758205e-01]\n",
            " [ 3.32943487e-03 -4.92672608e-02 -4.33496181e-02]\n",
            " [-5.55111512e-17  8.88178420e-16  8.88178420e-16]]\n"
          ]
        }
      ]
    },
    {
      "cell_type": "markdown",
      "source": [
        "Complete o código a seguir para implementar uma função que plota a trajetória no espaço cartesiano 3D. Também plote cada componente da trajetória em função do tempo em um segundo gráfico.\n"
      ],
      "metadata": {
        "id": "1T-sqsP08OPy"
      }
    },
    {
      "cell_type": "code",
      "source": [
        "def plotar_trajetoria_cartesiano(x_t, Td, dt):\n",
        "  \n",
        "  start = 0\n",
        "  step = dt\n",
        "  end = Td+step\n",
        "  t = np.arange(start,end,step)\n",
        "  M = t.shape[0]\n",
        "\n",
        "  # print(t)\n",
        "\n",
        "  # Construir os gráficos\n",
        "\n",
        "  fig = plt.figure()\n",
        "  fig.suptitle('Posição do efetuador no Espaço de Trabalho',fontsize = 16)\n",
        "  ax = plt.axes(projection='3d')\n",
        "  ax.plot3D(x_t[:,0], x_t[:,1], x_t[:,2])\n",
        "  ax.set_xlabel('$x$')\n",
        "  ax.set_ylabel('$y$')\n",
        "  ax.set_zlabel('$z$');\n",
        "  ax.legend([\"$ef(x,y,z)$\"],loc = \"upper right\")\n",
        "\n",
        "\n",
        "  lgn = [\"$x_e$\",\"$y_e$\",\"$z_e$\"]\n",
        "\n",
        "  fig = plt.figure()\n",
        "  fig.suptitle('Posição do efetuador x Tempo',fontsize = 16)\n",
        "  ax1 = fig.add_subplot(1,1,1)\n",
        "  for i in range(3):\n",
        "    ax1.plot(t,x_t[:,i])\n",
        "  ax1.grid(True)\n",
        "  # ax1.legend(lgn,loc = \"upper left\",ncol=len(lgn))\n",
        "  ax1.legend(lgn,loc = \"upper right\")\n",
        "  plt.xlabel('Tempo (s)')\n",
        "  plt.ylabel(r'Posição [m]')\n",
        "  # https://matplotlib.org/3.5.0/tutorials/text/mathtext.html\n",
        "\n",
        "  # fig = plt.figure() \n",
        "  # ax2 = fig.add_subplot(1,1,1)\n",
        "  # for i in range(3):\n",
        "  #   ax2.plot(t,w_efetuador[i,:])\n",
        "  # ax2.grid(True)\n",
        "  # ax2.legend(lgn_w,loc = \"upper right\")\n",
        "  # plt.xlabel('Tempo (s)')\n",
        "  # plt.ylabel(r'Velocidade angular $\\omega$ [rad/s]')\n",
        "\n",
        "# Testing the function\n",
        "q_s = np.array([0,10,20,30,40,50,60])*pi/180\n",
        "q_g = np.array([10,20,30,40,50,60,70])*pi/180\n",
        "\n",
        "Td = 1\n",
        "dt = 0.1\n",
        "robot1 = kinova_robot(\"KinovaGen3_P1\")\n",
        "[x_t, dx_t] = calcular_trajetoria_cartesiano(robot1,q_s,q_g,Td,dt)\n",
        "plotar_trajetoria_cartesiano(x_t,Td,dt)\n",
        "\n",
        "print(\"x_t = \",x_t)\n"
      ],
      "metadata": {
        "id": "7TIu6ABp8cPW",
        "colab": {
          "base_uri": "https://localhost:8080/",
          "height": 757
        },
        "outputId": "61374ac5-5008-418a-b939-e7dfcf1d205e"
      },
      "execution_count": 15,
      "outputs": [
        {
          "output_type": "stream",
          "name": "stdout",
          "text": [
            "x_t =  [[ 0.36986035 -0.20253187  0.96801523]\n",
            " [ 0.369948   -0.20382888  0.96687401]\n",
            " [ 0.37045342 -0.2113079   0.96029332]\n",
            " [ 0.37153022 -0.22724174  0.94627334]\n",
            " [ 0.3731108  -0.25063035  0.92569401]\n",
            " [ 0.37498013 -0.27829183  0.90135503]\n",
            " [ 0.37684947 -0.3059533   0.87701606]\n",
            " [ 0.37843005 -0.32934192  0.85643673]\n",
            " [ 0.37950684 -0.34527575  0.84241675]\n",
            " [ 0.38001227 -0.35275478  0.83583606]\n",
            " [ 0.38009992 -0.35405179  0.83469484]]\n"
          ]
        },
        {
          "output_type": "display_data",
          "data": {
            "text/plain": [
              "<Figure size 432x288 with 1 Axes>"
            ],
            "image/png": "[encoded data removed]"
          },
          "metadata": {
            "needs_background": "light"
          }
        },
        {
          "output_type": "display_data",
          "data": {
            "text/plain": [
              "<Figure size 432x288 with 1 Axes>"
            ],
            "image/png": "[encoded data removed]"
          },
          "metadata": {
            "needs_background": "light"
          }
        }
      ]
    },
    {
      "cell_type": "markdown",
      "source": [
        "### 5.2 Conversão de trajetória no espaço cartesiano para espaço das juntas\n",
        "\n",
        "**Método 1:** uma das formas de converter uma trajetória no espaço cartesiano para o espaço das juntas é aplicar a cinemática inversa para todos os pontos da trajetória $\\mathbf{x}(t)$. Entretanto, para o manipulador redundante, para uma dada posição do efetuador, existem múltiplas configurações possíveis (soluções válidas da cinemática inversa). Portanto, é preciso aplicar um método numérico iterativo que retorna, para um ponto da trajetória, a solução de configuração *mais próxima* da configuração associada ao ponto anterior da trajetória. Dessa forma, a continuidade do movimento das juntas é preservada.\n",
        "\n",
        "**Método 2:** Uma outra forma de fazer isso é utilizar a pseudo-inversa do Jacobiano. Entretanto, esse método não é adequado quando a trajetória passa próximo de um ponto de singularidade. Próximo da singulariade, o valor da pseudo-inversa do Jacobinado é muito alto, o que resultaria em uma velocidade de juntas também muito alta. \n",
        "\n",
        "Nessa tarefa, você irá aplicar o **método 2** para converter a trajetória no espaço cartesiano para o espaço das juntas.\n",
        "\n",
        "O número de condicionamento de um função (condition number) mede quanto o valor de saída é alterado por uma pequena variação na entrada. Aplicado a matriz, quando o determinante da matriz é zero, o número de condicionamento é infinito.\n",
        "\n",
        "No método 2 para controle de trajetória de robôs manipuladores, deve-se evitar trajetórias que passam próximo de configurações singulares, onde o determinante da matriz Jacobiano é zero. Ao invés de verificar ao longo da trajetória o determinante do Jacobinao, iremos verificar o número de condicionamento que pode ser utilizado para matrizes não quadradas:\n",
        "\n",
        "`c = np.linalg.cond(matriz)`\n",
        "\n",
        "Se o número de condicionamento do Jacobiano de velocidade linear $cond(J_v)$ for menor que um limiar, ou seja, $cond(J_v) < J_{max}$, então o ponto está suficientemente longe da singularidade, e podemos calcular a pseudo-inversa $J_v^{-1}$. \n",
        "\n",
        "Então, para construir a trajetória no espaço das juntas:\n",
        "\n",
        "$$ \\mathbf{q}(0) = \\mathbf{q_s}$$\n",
        "\n",
        "Para $t = 0 \\ldots (T_d-dt)$:\n",
        "\n",
        "$$c_J(t) = cond(J_v(\\mathbf{q}(t)))$$\n",
        "$$\\mathbf{\\dot q}(t) = ({^0J_v}(\\mathbf{q}(t)))^{-1} [{^0R_B} {^B\\mathbf{\\dot x}}(t)] $$\n",
        "$$\\delta \\mathbf{q} = ({^0J_v}(\\mathbf{q}(t)))^{-1} [{^0R_B}[\\mathbf{x}(t+dt) - \\mathbf{x}(t)]]$$\n",
        "$$\\mathbf{q}(t+dt) = \\mathbf{q}(t) + \\delta \\mathbf{q}$$\n",
        "\n",
        "Implementar a seguinte função de conversão que retorna uma matriz com as configurações do robô para cada instante de tempo. Não se preocupe, se a configuração final da trajetória não for a mesma que $q_g$. O importante é que a posição final do efetuador seja igual a posição final desejada.\n",
        "\n",
        "<ins>Observação</ins>: cond(J) verifica o quão próximos estamos de uma singularidade. Próximos de uma singularidade, $J^{-1}$ não pode ser calculado, e precisaremos trocar de método (ou trocar a trajetória)."
      ],
      "metadata": {
        "id": "ThMJ-VX-8j3X"
      }
    },
    {
      "cell_type": "code",
      "source": [
        "def trajetoria_cartesiano_para_juntas(robot,q_s, q_g, x_t, dx_t, Td, dt, J_min):\n",
        "  HB0 = robot.base\n",
        "  RB0 = HB0.R\n",
        "  R0B = np.transpose(RB0)\n",
        "\n",
        "  start = 0\n",
        "  step = dt\n",
        "  end = Td+step\n",
        "  t = np.arange(start,end,step)\n",
        "  M = t.shape[0]\n",
        "  N = q_s.shape[0]\n",
        "\n",
        "  q_t = np.zeros((M,N)) # Inicializando a matriz de saída\n",
        "  \n",
        "  q_t[0,:] = q_s\n",
        "\n",
        "  for i in range(M-1):\n",
        "    Jac = calcular_jacobiano(robot,q_t[i,:])\n",
        "    Jac1 = robot.jacob0(q_t[i])\n",
        "\n",
        "    # print(\"\\nJac = \\n\",Jac,\"\\nJac1 = \\n\",Jac1)\n",
        "\n",
        "    Jv = Jac[0:3,:] # Obtendo J das velocidades lineares, Jv\n",
        "    \n",
        "    c = np.linalg.cond(Jv)\n",
        "    # print(c)\n",
        "\n",
        "    if c < J_min:\n",
        "      iJv = np.linalg.pinv(Jv)\n",
        "      dx = x_t[i+1]-x_t[i] # Verificar\n",
        "      R0Bdx = np.dot(R0B,dx)\n",
        "\n",
        "      dq = np.dot(iJv,R0Bdx)\n",
        "      q_t[i+1,:] = q_t[i,:] + dq\n",
        "\n",
        "  return q_t\n",
        "\n",
        "# Testing the function\n",
        "q_s = np.array([0,10,20,30,40,50,60])*pi/180\n",
        "q_g = np.array([10,20,30,40,50,60,70])*pi/180\n",
        "\n",
        "# q_s = np.array([1,1,1,1,1,1,1]) # inicial\n",
        "# q_g = np.array([0.75,0.75,0.75,0.75,0.75,0.75,0.75,]) # final\n",
        "\n",
        "# q_s = np.array([0,0,0,0,0,0,0])*pi/180\n",
        "# q_g = np.array([90,90,0,-90,0,90,0])*pi/180\n",
        "\n",
        "Td = 0.9\n",
        "dt = 0.1\n",
        "robot1 = kinova_robot(\"KinovaGen3_P1\")\n",
        "[x_t, dx_t] = calcular_trajetoria_cartesiano(robot1,q_s,q_g,Td,dt)\n",
        "\n",
        "J_min = 500 # Limiar para o número de condicionamento\n",
        "q_t = trajetoria_cartesiano_para_juntas(robot1,q_s, q_g, x_t, dx_t, Td, dt, J_min)\n",
        "print(\"q_t = \",q_t*180/pi)"
      ],
      "metadata": {
        "id": "jCObjyLtAuIB",
        "outputId": "3aa60bbb-3e5d-48c0-ee08-6d243c180010",
        "colab": {
          "base_uri": "https://localhost:8080/"
        }
      },
      "execution_count": 16,
      "outputs": [
        {
          "output_type": "stream",
          "name": "stdout",
          "text": [
            "q_t =  [[ 0.         10.         20.         30.         40.         50.\n",
            "  60.        ]\n",
            " [ 0.13382857 10.01569099 20.08432157 30.18731683 40.00107615 50.14195704\n",
            "  60.        ]\n",
            " [ 0.88902765 10.11445841 20.56020577 31.23323088 40.00811193 50.9275672\n",
            "  60.        ]\n",
            " [ 2.46866573 10.43740522 21.55536512 33.2957058  40.03366039 52.39728403\n",
            "  60.        ]\n",
            " [ 4.74618953 11.2191192  22.97884995 35.93780136 40.09786257 54.06092264\n",
            "  60.        ]\n",
            " [ 7.35087829 12.55762178 24.55812615 38.50223627 40.20426731 55.35030177\n",
            "  60.        ]\n",
            " [ 9.77566326 14.19948728 25.94064604 40.47465921 40.32685046 56.02118953\n",
            "  60.        ]\n",
            " [11.54447855 15.6237821  26.86934046 41.66028418 40.42692669 56.21033071\n",
            "  60.        ]\n",
            " [12.41436737 16.39493528 27.2927679  42.157603   40.4789673  56.20911178\n",
            "  60.        ]\n",
            " [12.56970349 16.5383122  27.36524968 42.23906815 40.48847164 56.20126125\n",
            "  60.        ]]\n"
          ]
        }
      ]
    },
    {
      "cell_type": "markdown",
      "source": [
        "###5.3 Plotar Resultado \n",
        "\n",
        "Para verificar se a trajetória controlada está correta, podemos converter a trajetória no espaço das juntas que foi resultado da funcão `trajetoria_cartesiano_para_juntas` em trajetória no espaço cartesiano, e plotar essa trajetória."
      ],
      "metadata": {
        "id": "j8hYQovrOvtO"
      }
    },
    {
      "cell_type": "code",
      "source": [
        "def plotar_trajetoria_cartesiano_resultado(robo, q_t, dt, Td):\n",
        "  # Converter através da função 'pose_efetuador' a trajetoria no espaço das juntas para trajetória do efetuador no espaço cartesiano\n",
        "  start = 0\n",
        "  step = dt\n",
        "  end = Td+step\n",
        "  t = np.arange(start,end,step)\n",
        "  M = t.shape[0]\n",
        "  N = q_t.shape[1]\n",
        "\n",
        "  HH = calcular_traj_efetuador(robo, q_t)\n",
        "\n",
        "  xyz = HH[:,:,3] # Vetor de translação, falta tirar o elemento 1 na posição 4x4 de H\n",
        "  x_t = xyz[:,0:3] # Agora está ok\n",
        "\n",
        "  # Plotar a trajetória no espaço cartesiano usando a função 'plotar_trajetoria_cartesiano'\n",
        "  plotar_trajetoria_cartesiano(x_t,Td,dt)\n"
      ],
      "metadata": {
        "id": "22Ns6NR7Vccl"
      },
      "execution_count": 17,
      "outputs": []
    },
    {
      "cell_type": "markdown",
      "source": [
        "### 5.4 Teste as funções implementadas\n",
        "\n",
        "Escolha uma configuração inicial $\\mathbf{q_s}$ e final para o robô $\\mathbf{q_g}$ de forma que não exista pontos de singularidade ao longo da trajetória reta entre as configuracões. Escolha também um valor de $T_d$ e $dt$.\n",
        "\n",
        "Teste as funções implementadas em 5.1 e 5.2 para os valores escolhidos, e plote um gráfico com a trajetória 3D do efetuador no espaço cartesiano, e um gráfico com a trajetória no espaço das juntas do manipulador. "
      ],
      "metadata": {
        "id": "WMhIP-YXBzej"
      }
    },
    {
      "cell_type": "code",
      "source": [
        "Td = 10.0\n",
        "dt = 1 #0.01\n",
        "robot1 = kinova_robot(\"KinovaGen3_P1\")\n",
        "[x_t, dx_t] = calcular_trajetoria_cartesiano(robot1,q_s,q_g,Td,dt)\n",
        "q_s = np.array([0,10,20,30,40,50,60])*pi/180\n",
        "q_g = np.array([10,20,30,40,50,60,70])*pi/180\n",
        "\n",
        "J_min = 100 # Limiar para o número de condicionamento\n",
        "q_t = trajetoria_cartesiano_para_juntas(robot1,q_s, q_g, x_t, dx_t, Td, dt, J_min)\n",
        "\n",
        "plotar_trajetoria_cartesiano_resultado(robot1, q_t, dt, Td)\n",
        "print(\"q_t = \",q_t*180/pi)\n",
        "print(\"x_t = \",x_t)"
      ],
      "metadata": {
        "colab": {
          "base_uri": "https://localhost:8080/",
          "height": 1000
        },
        "id": "DCvK6UxhuQcV",
        "outputId": "d3f53304-f59d-49f3-836d-b3514359532f"
      },
      "execution_count": 18,
      "outputs": [
        {
          "output_type": "stream",
          "name": "stdout",
          "text": [
            "q_t =  [[ 0.         10.         20.         30.         40.         50.\n",
            "  60.        ]\n",
            " [ 0.09933174 10.01164634 20.0625861  30.13903239 40.00079875 50.10536494\n",
            "  60.        ]\n",
            " [ 0.67343643 10.08473337 20.42434483 30.93630893 40.00595927 50.70560241\n",
            "  60.        ]\n",
            " [ 1.91233546 10.31251472 21.20500628 32.58117461 40.0236371  51.89601172\n",
            "  60.        ]\n",
            " [ 3.77570583 10.86443246 22.37386926 34.83398087 40.06871975 53.38171799\n",
            "  60.        ]\n",
            " [ 6.04602542 11.87255066 23.77067809 37.23207057 40.14993241 54.72194404\n",
            "  60.        ]\n",
            " [ 8.381969   13.26906995 25.14658111 39.32784701 40.25696025 55.61483924\n",
            "  60.        ]\n",
            " [10.40305739 14.74984974 26.25988951 40.84775326 40.36395628 56.02527427\n",
            "  60.        ]\n",
            " [11.80162016 15.91570482 26.97393194 41.73665919 40.44419012 56.12196795\n",
            "  60.        ]\n",
            " [12.4637066  16.50894451 27.29146935 42.10624113 40.48380368 56.1125007\n",
            "  60.        ]\n",
            " [12.57891004 16.61534128 27.34494891 42.16640599 40.49081676 56.10657675\n",
            "  60.        ]]\n",
            "x_t =  [[ 0.36986035 -0.20253187  0.96801523]\n",
            " [ 0.369948   -0.20382888  0.96687401]\n",
            " [ 0.37045342 -0.2113079   0.96029332]\n",
            " [ 0.37153022 -0.22724174  0.94627334]\n",
            " [ 0.3731108  -0.25063035  0.92569401]\n",
            " [ 0.37498013 -0.27829183  0.90135503]\n",
            " [ 0.37684947 -0.3059533   0.87701606]\n",
            " [ 0.37843005 -0.32934192  0.85643673]\n",
            " [ 0.37950684 -0.34527575  0.84241675]\n",
            " [ 0.38001227 -0.35275478  0.83583606]\n",
            " [ 0.38009992 -0.35405179  0.83469484]]\n"
          ]
        },
        {
          "output_type": "display_data",
          "data": {
            "text/plain": [
              "<Figure size 432x288 with 1 Axes>"
            ],
            "image/png": "[encoded data removed]"
          },
          "metadata": {
            "needs_background": "light"
          }
        },
        {
          "output_type": "display_data",
          "data": {
            "text/plain": [
              "<Figure size 432x288 with 1 Axes>"
            ],
            "image/png": "[encoded data removed]"
          },
          "metadata": {
            "needs_background": "light"
          }
        }
      ]
    },
    {
      "cell_type": "code",
      "source": [
        ""
      ],
      "metadata": {
        "id": "L17r3kKn_xnu"
      },
      "execution_count": 18,
      "outputs": []
    }
  ]
}