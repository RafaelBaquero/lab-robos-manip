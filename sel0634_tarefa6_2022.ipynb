{
  "metadata": {
    "colab": {
      "name": "sel0634_tarefa6_2022.ipynb",
      "provenance": []
    },
    "kernelspec": {
      "name": "python3",
      "display_name": "Python 3 (ipykernel)",
      "language": "python"
    },
    "language_info": {
      "name": "python",
      "version": "3.7.12",
      "mimetype": "text/x-python",
      "codemirror_mode": {
        "name": "ipython",
        "version": 3
      },
      "pygments_lexer": "ipython3",
      "nbconvert_exporter": "python",
      "file_extension": ".py"
    }
  },
  "nbformat_minor": 0,
  "nbformat": 4,
  "cells": [
    {
      "cell_type": "markdown",
      "source": [
        "# SEL634 - Laboratório de Robôs Manipuladores\n",
        "\n",
        "## Inicialização da biblioteca\n",
        "\n",
        "Carregar a biblioteca de robótica para Python:"
      ],
      "metadata": {
        "id": "RfOcPjB5LeQA"
      }
    },
    {
      "cell_type": "code",
      "source": [
        "!python3 -m pip install --user --upgrade pip==20.1\n",
        "!pip install roboticstoolbox-python\n",
        "!pip install spatialmath-python"
      ],
      "metadata": {
        "id": "byi8G6BxLXK7",
        "outputId": "580bc522-d563-4e17-f493-dc1d9f1e454d",
        "colab": {
          "base_uri": "https://localhost:8080/"
        }
      },
      "execution_count": 1,
      "outputs": [
        {
          "output_type": "stream",
          "name": "stdout",
          "text": [
            "Looking in indexes: https://pypi.org/simple, https://us-python.pkg.dev/colab-wheels/public/simple/\n",
            "Collecting pip==20.1\n",
            "  Downloading pip-20.1-py2.py3-none-any.whl (1.5 MB)\n",
            "\u001b[K     |████████████████████████████████| 1.5 MB 24.9 MB/s \n",
            "\u001b[?25hInstalling collected packages: pip\n",
            "\u001b[33m  WARNING: The scripts pip, pip3 and pip3.7 are installed in '/root/.local/bin' which is not on PATH.\n",
            "  Consider adding this directory to PATH or, if you prefer to suppress this warning, use --no-warn-script-location.\u001b[0m\n",
            "\u001b[31mERROR: pip's dependency resolver does not currently take into account all the packages that are installed. This behaviour is the source of the following dependency conflicts.\n",
            "pip-tools 6.2.0 requires pip>=20.3, but you have pip 20.1 which is incompatible.\u001b[0m\n",
            "Successfully installed pip-20.1\n",
            "Looking in indexes: https://pypi.org/simple, https://us-python.pkg.dev/colab-wheels/public/simple/\n",
            "Collecting roboticstoolbox-python\n",
            "  Downloading roboticstoolbox_python-1.0.1-cp37-cp37m-manylinux_2_5_x86_64.manylinux1_x86_64.manylinux_2_12_x86_64.manylinux2010_x86_64.whl (2.7 MB)\n",
            "\u001b[K     |████████████████████████████████| 2.7 MB 9.1 MB/s \n",
            "\u001b[?25hCollecting rtb-data\n",
            "  Downloading rtb_data-1.0.0-py3-none-any.whl (112.2 MB)\n",
            "\u001b[K     |████████████████████████████████| 112.2 MB 83 kB/s \n",
            "\u001b[?25hRequirement already satisfied: numpy>=1.17.4 in /usr/local/lib/python3.7/dist-packages (from roboticstoolbox-python) (1.21.6)\n",
            "Collecting ansitable\n",
            "  Downloading ansitable-0.9.6.tar.gz (17 kB)\n",
            "Collecting spatialgeometry~=1.0.0\n",
            "  Downloading spatialgeometry-1.0.1-cp37-cp37m-manylinux_2_5_x86_64.manylinux1_x86_64.manylinux_2_12_x86_64.manylinux2010_x86_64.whl (1.5 MB)\n",
            "\u001b[K     |████████████████████████████████| 1.5 MB 38.2 MB/s \n",
            "\u001b[?25hCollecting spatialmath-python~=1.0.0\n",
            "  Downloading spatialmath_python-1.0.0-py3-none-any.whl (178 kB)\n",
            "\u001b[K     |████████████████████████████████| 178 kB 42.6 MB/s \n",
            "\u001b[?25hRequirement already satisfied: matplotlib in /usr/local/lib/python3.7/dist-packages (from roboticstoolbox-python) (3.2.2)\n",
            "Collecting pgraph-python\n",
            "  Downloading pgraph-python-0.6.1.tar.gz (16 kB)\n",
            "Collecting swift-sim~=1.0.0\n",
            "  Downloading swift_sim-1.0.0-cp37-cp37m-manylinux_2_5_x86_64.manylinux1_x86_64.manylinux_2_12_x86_64.manylinux2010_x86_64.whl (13.5 MB)\n",
            "\u001b[K     |████████████████████████████████| 13.5 MB 44.4 MB/s \n",
            "\u001b[?25hRequirement already satisfied: scipy in /usr/local/lib/python3.7/dist-packages (from roboticstoolbox-python) (1.4.1)\n",
            "Collecting progress\n",
            "  Downloading progress-1.6.tar.gz (7.8 kB)\n",
            "Collecting colored\n",
            "  Downloading colored-1.4.3.tar.gz (29 kB)\n",
            "Requirement already satisfied: kiwisolver>=1.0.1 in /usr/local/lib/python3.7/dist-packages (from matplotlib->roboticstoolbox-python) (1.4.3)\n",
            "Requirement already satisfied: cycler>=0.10 in /usr/local/lib/python3.7/dist-packages (from matplotlib->roboticstoolbox-python) (0.11.0)\n",
            "Requirement already satisfied: python-dateutil>=2.1 in /usr/local/lib/python3.7/dist-packages (from matplotlib->roboticstoolbox-python) (2.8.2)\n",
            "Requirement already satisfied: pyparsing!=2.0.4,!=2.1.2,!=2.1.6,>=2.0.1 in /usr/local/lib/python3.7/dist-packages (from matplotlib->roboticstoolbox-python) (3.0.9)\n",
            "Collecting websockets\n",
            "  Downloading websockets-10.3-cp37-cp37m-manylinux_2_5_x86_64.manylinux1_x86_64.manylinux_2_12_x86_64.manylinux2010_x86_64.whl (112 kB)\n",
            "\u001b[K     |████████████████████████████████| 112 kB 42.6 MB/s \n",
            "\u001b[?25hRequirement already satisfied: typing-extensions; python_version < \"3.8\" in /usr/local/lib/python3.7/dist-packages (from kiwisolver>=1.0.1->matplotlib->roboticstoolbox-python) (4.1.1)\n",
            "Requirement already satisfied: six>=1.5 in /usr/local/lib/python3.7/dist-packages (from python-dateutil>=2.1->matplotlib->roboticstoolbox-python) (1.15.0)\n",
            "Building wheels for collected packages: ansitable, pgraph-python, progress, colored\n",
            "  Building wheel for ansitable (setup.py) ... \u001b[?25l\u001b[?25hdone\n",
            "  Created wheel for ansitable: filename=ansitable-0.9.6-py3-none-any.whl size=12621 sha256=f30e7256f877762a674a16026de47b3274ca0456252766235be1c5e79a9274e7\n",
            "  Stored in directory: /root/.cache/pip/wheels/57/a4/a9/84ed983596f261a978c880aba60eba145e76aa5a59e455f189\n",
            "  Building wheel for pgraph-python (setup.py) ... \u001b[?25l\u001b[?25hdone\n",
            "  Created wheel for pgraph-python: filename=pgraph_python-0.6.1-py3-none-any.whl size=11482 sha256=e437441bf71d23d952e4227c35aed8b347d56904033512cc4f8870f9e894fe86\n",
            "  Stored in directory: /root/.cache/pip/wheels/0c/96/4a/6802f53d94902fa9431fe1d0ca769f5da8faee8894188c1fd5\n",
            "  Building wheel for progress (setup.py) ... \u001b[?25l\u001b[?25hdone\n",
            "  Created wheel for progress: filename=progress-1.6-py3-none-any.whl size=9632 sha256=1422ac54918e480859811d9ee881aa60576553a371c4adfabe044bef03c3fcf9\n",
            "  Stored in directory: /root/.cache/pip/wheels/8e/d7/61/498d8e27dc11e9805b01eb3539e2ee344436fc226daeb5fe87\n",
            "  Building wheel for colored (setup.py) ... \u001b[?25l\u001b[?25hdone\n",
            "  Created wheel for colored: filename=colored-1.4.3-py3-none-any.whl size=14342 sha256=c679ab0e1c72cff2d3da7912615fe81f53e2e2d1b5815bc08b8f89a4c612ad15\n",
            "  Stored in directory: /root/.cache/pip/wheels/4a/f6/00/835e81851bc345428a253721c8bdad0062721dfb861bc6e752\n",
            "Successfully built ansitable pgraph-python progress colored\n",
            "Installing collected packages: rtb-data, colored, ansitable, spatialmath-python, spatialgeometry, pgraph-python, websockets, swift-sim, progress, roboticstoolbox-python\n",
            "Successfully installed ansitable-0.9.6 colored-1.4.3 pgraph-python-0.6.1 progress-1.6 roboticstoolbox-python-1.0.1 rtb-data-1.0.0 spatialgeometry-1.0.1 spatialmath-python-1.0.0 swift-sim-1.0.0 websockets-10.3\n",
            "Looking in indexes: https://pypi.org/simple, https://us-python.pkg.dev/colab-wheels/public/simple/\n",
            "Requirement already satisfied: spatialmath-python in /usr/local/lib/python3.7/dist-packages (1.0.0)\n",
            "Requirement already satisfied: ansitable in /usr/local/lib/python3.7/dist-packages (from spatialmath-python) (0.9.6)\n",
            "Requirement already satisfied: colored in /usr/local/lib/python3.7/dist-packages (from spatialmath-python) (1.4.3)\n",
            "Requirement already satisfied: numpy in /usr/local/lib/python3.7/dist-packages (from spatialmath-python) (1.21.6)\n",
            "Requirement already satisfied: matplotlib in /usr/local/lib/python3.7/dist-packages (from spatialmath-python) (3.2.2)\n",
            "Requirement already satisfied: scipy in /usr/local/lib/python3.7/dist-packages (from spatialmath-python) (1.4.1)\n",
            "Requirement already satisfied: pyparsing!=2.0.4,!=2.1.2,!=2.1.6,>=2.0.1 in /usr/local/lib/python3.7/dist-packages (from matplotlib->spatialmath-python) (3.0.9)\n",
            "Requirement already satisfied: python-dateutil>=2.1 in /usr/local/lib/python3.7/dist-packages (from matplotlib->spatialmath-python) (2.8.2)\n",
            "Requirement already satisfied: kiwisolver>=1.0.1 in /usr/local/lib/python3.7/dist-packages (from matplotlib->spatialmath-python) (1.4.3)\n",
            "Requirement already satisfied: cycler>=0.10 in /usr/local/lib/python3.7/dist-packages (from matplotlib->spatialmath-python) (0.11.0)\n",
            "Requirement already satisfied: six>=1.5 in /usr/local/lib/python3.7/dist-packages (from python-dateutil>=2.1->matplotlib->spatialmath-python) (1.15.0)\n",
            "Requirement already satisfied: typing-extensions; python_version < \"3.8\" in /usr/local/lib/python3.7/dist-packages (from kiwisolver>=1.0.1->matplotlib->spatialmath-python) (4.1.1)\n"
          ]
        }
      ]
    },
    {
      "cell_type": "code",
      "source": [
        "import numpy as np\n",
        "#import roboticstoolbox as rtb\n",
        "from roboticstoolbox import *\n",
        "from spatialmath import *\n",
        "from spatialmath.base import *\n",
        "from math import pi\n",
        "import matplotlib.pyplot as plt\n",
        "from matplotlib import cm\n",
        "np.set_printoptions(linewidth=100, formatter={'float': lambda x: f\"{x:8.4g}\" if abs(x) > 1e-10 else f\"{0:8.4g}\"})\n",
        "\n",
        "# no Binder utilizar essa linha\n",
        "%matplotlib notebook  \n",
        "# no Colab utilizar essa linha\n",
        "# %matplotlib inline"
      ],
      "metadata": {
        "id": "GhTb1eOALjKe"
      },
      "execution_count": 11,
      "outputs": []
    },
    {
      "cell_type": "markdown",
      "source": [
        "## Cinemática Direta do Robô Kinova Gen3\n",
        "\n",
        "O robô Kinova Gen3 pode ser modelado pela seguinte função (ver Tarefa 2):"
      ],
      "metadata": {
        "id": "76NHqE5ELmAl"
      }
    },
    {
      "cell_type": "code",
      "source": [
        "def kinova_robot(my_name):\n",
        "  robot = DHRobot(\n",
        "      [\n",
        "       # Colocar seu código aqui para completar a descrição do robô\n",
        "        RevoluteDH(d=-(0.1564+0.1284), alpha=pi/2),\n",
        "            RevoluteDH(d=-(0.0054+0.0064), alpha=pi/2, offset=pi),\n",
        "            RevoluteDH(d=-(0.2104+0.2104), alpha=pi/2, offset=pi),\n",
        "            RevoluteDH(d=-(0.0064+0.0064), alpha=pi/2, offset=pi),\n",
        "            RevoluteDH(d=-(0.2084+0.1059), alpha=pi/2, offset=pi),\n",
        "            RevoluteDH(alpha=pi/2, offset=pi),\n",
        "            RevoluteDH(d=-(0.1059+0.0615), alpha=pi, offset=pi)\n",
        "       ], name=my_name)\n",
        "  H_B0 = SE3.Rz(0)*SE3(0,0,0)*SE3(0,0,0)*SE3.Rx(pi)\n",
        "  robot.base = H_B0\n",
        "  return robot\n"
      ],
      "metadata": {
        "id": "PE8CpE4eMA3K"
      },
      "execution_count": 12,
      "outputs": []
    },
    {
      "cell_type": "markdown",
      "source": [
        "A pose do efetuador do robô Kinova Gen3 é dada em relação a base, $B$, pela função:"
      ],
      "metadata": {
        "id": "gtjvxjQsMJ6P"
      }
    },
    {
      "cell_type": "code",
      "source": [
        "def pose_efetuador(robot, q):\n",
        "  H_B7 = robot.fkine(q)\n",
        "  return H_B7"
      ],
      "metadata": {
        "id": "vRK0cR_TMQFO"
      },
      "execution_count": 13,
      "outputs": []
    },
    {
      "cell_type": "markdown",
      "source": [
        "## Trajetória do Robô no Espaço das Juntas\n",
        "\n",
        "Considere que a junta $i$ possui a seguinte trajetória  em graus no tempo que leva a junta $i$ da posição $\\theta_{si}$ até $\\theta_{gi}$ em um dado tempo $T_d$:\n",
        "$$ \\theta_i (t) = c_{0i} + c_{1i} t + c_{2i} t^2 + c_{3i} t^3 + c_{4i} t^4 + c_{5i} t^5 $$\n",
        "Para velocidades e acelerações iniciais e finais iguais a zero, os coeficientes do polinômio são dados em função da posição inicial e final e do intervalo de tempo:\n",
        "\\begin{eqnarray*}\n",
        "\t&c_{0i}& = \\theta_{si}\\\\\n",
        "\t&c_{1i}& = c_{2i} = 0\\\\\n",
        "\t&c_{3i}& = \\frac{10(\\theta_{gi}-\\theta_{si})}{T_d^{3}}\\\\\n",
        "\t&c_{4i}& = \\frac{15(\\theta_{si}-\\theta_{gi})}{T_d^{4}}\\\\\n",
        "\t&c_{5i}& = \\frac{6(\\theta_{gi}-\\theta_{si})}{T_d^{5}}\n",
        "\\end{eqnarray*}\n",
        "\n",
        "A velocidade de cada junta para condições iniciais nulas é dada por:\n",
        "$$ \\dot\\theta_i (t) = c_{1i} + 2c_{2i} t + 3c_{3i} t^2 + 4c_{4i} t^3 + 5c_{5i} t^4 $$\n",
        "\n",
        "A aceleração de cada junta para condições iniciais nulas é dada por:\n",
        "$$ \\ddot\\theta_i (t) = 2c_{2i} + 6c_{3i} t + 12c_{4i} t^2 + 20c_{5i} t^3 $$\n",
        "\n",
        "A função a seguir foi implementada na Tarefa 3 para calcular a trajetória das juntas do manipulador:\n"
      ],
      "metadata": {
        "id": "I2hWmRQG0GNQ"
      }
    },
    {
      "cell_type": "code",
      "source": [
        "def calcular_trajetoria(theta_s, theta_g, Td, dt):\n",
        "  # Coloque seu codigo aqui\n",
        "    N = theta_s.size # Array length\n",
        "    \n",
        "    c0 = theta_s\n",
        "    c1 = np.zeros(N)\n",
        "    c2 = c1\n",
        "    c3 = 10*(theta_g-theta_s)/Td**3\n",
        "    c4 = 15*(theta_s-theta_g)/Td**4\n",
        "    c5 = 6*(theta_g-theta_s)/Td**5\n",
        "    \n",
        "    #print(c1)\n",
        "\n",
        "    start = 0\n",
        "    step = dt\n",
        "    end = Td+step\n",
        "    t = np.arange(start,end,step)\n",
        "    t2 = np.power(t,2)\n",
        "    t3 = np.power(t,3)\n",
        "    t4 = np.power(t,4)\n",
        "    t5 = np.power(t,5)\n",
        "    \n",
        "    M = len(t) # Number of points used in the trajectory discretization\n",
        "    #print(c3)\n",
        "\n",
        "    #here adjust MxN dimensions \n",
        "    # https://numpy.org/doc/stable/user/basics.broadcasting.html\n",
        "    # https://numpy.org/doc/stable/reference/generated/numpy.tile.html?highlight=numpy%20tile#numpy.tile\n",
        "    \n",
        "    tVec = np.transpose(np.tile(t,(N,1)))\n",
        "    tVec2 = np.transpose(np.tile(t2,(N,1)))\n",
        "    tVec3 = np.transpose(np.tile(t3,(N,1)))\n",
        "    tVec4 = np.transpose(np.tile(t4,(N,1)))\n",
        "    tVec5 = np.transpose(np.tile(t5,(N,1)))\n",
        "    \n",
        "    onesVec = np.ones((M,N))\n",
        "    \n",
        "    #print(tVec2)\n",
        "    #print(\"M =\",M)\n",
        "    #print(tVec*c1[np.newaxis,:])\n",
        "    \n",
        "    theta_t = onesVec*c0[np.newaxis,:] + tVec*c1[np.newaxis,:] + tVec2*c2[np.newaxis,:] + tVec3*c3[np.newaxis,:] + tVec4*c4[np.newaxis,:] + tVec5*c5[np.newaxis,:]\n",
        "    dtheta_t = onesVec*c1[np.newaxis,:] + 2*tVec*c2[np.newaxis,:] + 3*tVec2*c3[np.newaxis,:] + 4*tVec3*c4[np.newaxis,:] + 5*tVec4*c5[np.newaxis,:]\n",
        "    ddtheta_t = 2*onesVec*c2[np.newaxis,:] + 2*3*tVec*c3[np.newaxis,:] + 3*4*tVec2*c4[np.newaxis,:]+4*5*tVec3*c5[np.newaxis,:]\n",
        "    return theta_t, dtheta_t, ddtheta_t\n",
        "\n",
        "# Testing the function\n",
        "# theta_s = np.array([0,1,2,3,4,5,6])\n",
        "# theta_g = np.array([1,2,3,4,5,6,7])\n",
        "# Td = 1\n",
        "# dt = 0.1\n",
        "# [theta1, theta2, theta3] = calcular_trajetoria(theta_s,theta_g,Td,dt)\n",
        "# print(theta1)\n",
        "\n",
        "# Multi-line edit: https://stackoverflow.com/questions/60053748/google-colab-edit-two-lines-at-the-same-time"
      ],
      "metadata": {
        "id": "dDkgxSqhNUP3"
      },
      "execution_count": 33,
      "outputs": []
    },
    {
      "cell_type": "markdown",
      "source": [
        "A função a seguir foi implementada na Tarefa 3 para calcular a sequencia no tempo de matrizes de transformação homogênea que representa a pose do robô (posição e orientação do efetuador)"
      ],
      "metadata": {
        "id": "amRIj2OOOKM2"
      }
    },
    {
      "cell_type": "code",
      "source": [
        "def calcular_traj_efetuador(robot, theta_t):\n",
        "  # Coloque seu codigo aqui\n",
        "  # print(\"theta_t = \",theta_t[:,0]) # Testr\n",
        "  HH = pose_efetuador(robot,theta_t)\n",
        "  HHnp = np.array(HH[:].A) # Conversão para np.array\n",
        "  HH_efetuador = HHnp\n",
        "  return HH_efetuador\n",
        "\n",
        "# theta_s = np.array([0,1,2,3,4,5,6])\n",
        "# theta_g = np.array([1,2,3,4,5,6,7])\n",
        "# Td = 1\n",
        "# dt = 0.1\n",
        "# [theta_t, dtheta_t, ddtheta_t] = calcular_trajetoria(theta_s,theta_g,Td,dt)\n",
        "# robot1 = kinova_robot(\"KinovaGen3_P1\")\n",
        "# HH = calcular_traj_efetuador(robot1,theta_t)\n",
        "\n",
        "# print(HH)"
      ],
      "metadata": {
        "id": "d4LVto0AOcWP"
      },
      "execution_count": 34,
      "outputs": []
    },
    {
      "cell_type": "markdown",
      "source": [
        "## Velocidade do Efetuador do Robô Manipulador\n",
        "\n",
        "Na tarefa 4 você implementou as seguintes funções para calcular o Jacobiano do manipulador: \n"
      ],
      "metadata": {
        "id": "98NrriRZ1JX3"
      }
    },
    {
      "cell_type": "code",
      "source": [
        "def calcular_jacobiano(robot,theta):\n",
        "  # Nosso objetivo é chegar na seguinte matriz:\n",
        "  # Jref = robot.jacob0(theta)\n",
        "  # print(\"Jref = \\n\",Jref) # Jacobiano 6xN \n",
        "  # print(\"\\n\")\n",
        "\n",
        "  # Coloque seu codigo aqui\n",
        "  N = theta.shape[0]\n",
        "  d = list() # Dica do Vinícius\n",
        "  R = list()\n",
        "\n",
        "  d.append(np.array([0,0,0])) # ^0d_0\n",
        "  R.append(np.identity(3)) # ^0R_0\n",
        "\n",
        "  for i in range(N):\n",
        "    Hi = robot.A(i,theta)\n",
        "    # print(\"H\"+str(i)+\"= \\n\",Hi,\"\\n\")\n",
        "    R.append(Hi.R) # R.append(SO3(robot.A(i,theta)))\n",
        "    d.append(Hi.t)\n",
        "\n",
        "  # O robô Kinova Gen3 possui apenas matrizes de rotação.\n",
        "\n",
        "  # Submatrizes Jv (velocidade linear)\n",
        "  Jv = list()\n",
        "  for i in range(N):\n",
        "    zi = R[i][:,2]\n",
        "    xProd = np.dot(skew(zi),(d[N]-d[i])) # J_{vi} = ^0z_{i−1} × ^0o_n − ^0o_{i−1}, d[N] = d[7], que corresponde às coordenadas do efetuador em relação a {0}.\n",
        "    Jv.append(xProd)\n",
        "\n",
        "  # Submatrizes Jw (velocidade angular)\n",
        "  Jw = list()\n",
        "  for i in range(N):\n",
        "    Jw.append(R[i][:,2])\n",
        "\n",
        "  J_efetuador = np.zeros((6,N)) # Matriz de 0s de dimensão 6xN\n",
        "\n",
        "  # Montando a matriz Jacobiana\n",
        "\n",
        "  for i in range(N):\n",
        "    J_efetuador[0:3,i] = Jv[i]\n",
        "    J_efetuador[3:6,i] = Jw[i]\n",
        "\n",
        "  return J_efetuador\n",
        "\n",
        "# Teste da função\n",
        "# theta_s = np.array([0,1,2,3,4,5,6])\n",
        "# robot1 = kinova_robot(\"KinovaGen3_P1\")\n",
        "# Jteste = calcular_jacobiano(robot1,theta_s)\n",
        "# print(\"test\\n\")\n",
        "# print(\"J = \\n\",Jteste)"
      ],
      "metadata": {
        "id": "rSU3h3ynDJT7"
      },
      "execution_count": 16,
      "outputs": []
    },
    {
      "cell_type": "markdown",
      "source": [
        "Na tarefa 4, você implementou uma função que calcula a velocidade do efetuador do manipulador Kinova Gen3 em relação a sua base $B$.\n",
        "\n",
        "O calculo das velocidades linear e angular do manipulador em relação ao sistema $\\{0\\}$ para um dado instante de tempo é:\n",
        "\n",
        "$$\\begin{bmatrix} ^0v_n(t) \\\\ ^0w_n(t) \\end{bmatrix} = {^0J_n}(q(t)) ~\\dot q(t) $$\n",
        "\n",
        "Como a origem do sistema de coordenadas $\\{0\\}$ e $\\{B\\}$ coincidem, para transformar o vetor de velocidades para o sistema de coordenadas da base $\\{B\\}$:\n",
        "\n",
        "$$ \\begin{bmatrix} ^Bv_n(t) \\\\ ^Bw_n(t) \\end{bmatrix} = {^BR_0}\\begin{bmatrix} ^0v_n(t) \\\\ ^0w_n(t) \\end{bmatrix} $$\n",
        "\n"
      ],
      "metadata": {
        "id": "T90-9R_lECug"
      }
    },
    {
      "cell_type": "code",
      "source": [
        "def calcular_vel_efetuador(robot,theta_t,dtheta_t):\n",
        "  # Coloque seu codigo aqui\n",
        "  H_B0 = robot.base\n",
        "  # print(H_B0)\n",
        "  M = theta_t.shape[0]\n",
        "\n",
        "  v_efetuador = np.zeros((3,M))\n",
        "  w_efetuador = np.zeros((3,M)) # Inicialização das matrizes de saída\n",
        "  # Atenção: não usar w_efetuador = v_efetuador! Por algum motivo, isso gera distorções quando os valores de interesse são atribuídos.\n",
        "  # V_efetuador = np.vstack((v_efetuador,w_efetuador))\n",
        "  # print(V_efetuador.shape)\n",
        "\n",
        "  # Jteste = calcular_jacobiano(robot,theta_t[0])\n",
        "  # J_B0v = np.dot(H_B0.R,Jteste[0:3,:])\n",
        "  # J_B0w = np.dot(H_B0.R,Jteste[3:6,:])\n",
        "  # print(\"J_B0v = \\n\",J_B0v)\n",
        "  # print(\"J_B0w = \\n\",J_B0w)\n",
        "  # lin_velv = np.dot(J_B0v,dtheta_t[0])\n",
        "  # ang_velw = np.dot(J_B0w,dtheta_t[0])\n",
        "  # print(\"lin_velv = \\n\",lin_velv)\n",
        "  # print(\"ang_velw = \\n\",ang_velw)\n",
        "\n",
        "  for i in range(M):\n",
        "    Jac = calcular_jacobiano(robot,theta_t[i])\n",
        "    J_B0v = np.dot(H_B0.R,Jac[0:3,:]) # Obtendo J das velocidades lineares, Jv, em relação à base B\n",
        "    v_efetuador[:,i] = np.dot(J_B0v,dtheta_t[i])\n",
        "    J_B0w = np.dot(H_B0.R,Jac[3:6,:]) # Obtendo J das velocidades angulares, Jw, em relação à base B\n",
        "    w_efetuador[:,i] = np.dot(J_B0w,dtheta_t[i])\n",
        "    \n",
        "    # print(\"\\n\",np.dot(J_B0v,dtheta_t[i]))\n",
        "    # print(v_efetuador[:,i],\"\\n\")    \n",
        "    # print(\"\\n\",np.dot(J_B0w,dtheta_t[i]))\n",
        "    # print(w_efetuador[:,i],\"\\n\")\n",
        "\n",
        "  V_efetuador = np.vstack((v_efetuador,w_efetuador))\n",
        "  return V_efetuador\n",
        "\n",
        "# Testing the function\n",
        "theta_s = np.array([0,1,2,3,4,5,6])\n",
        "theta_g = np.array([1,2,3,4,5,6,7])\n",
        "Td = 0.9\n",
        "dt = 0.1\n",
        "[theta_t, dtheta_t, ddtheta_t] = calcular_trajetoria(theta_s,theta_g,Td,dt)\n",
        "robot1 = kinova_robot(\"KinovaGen3_P1\")\n",
        "V_efetuador = calcular_vel_efetuador(robot1,theta_t,dtheta_t)\n",
        "# print(V_efetuador)\n",
        "\n",
        "# Autocomplete suggestions in Colab: https://stackoverflow.com/questions/52438415/is-it-possible-to-have-autocomplete-in-a-notebook-in-google-colab"
      ],
      "metadata": {
        "id": "TCpQrm-c7eMF"
      },
      "execution_count": 17,
      "outputs": []
    },
    {
      "cell_type": "markdown",
      "source": [
        "## 5. Controle de Trajetória do Efetuador no Espaço Cartesiano\n",
        "\n",
        "**Aviso:** Esta é uma versão preliminar do documento que está sujeita a revisão. Estou procurando deixar a descrição desta tarefa mais clara e completa.\n",
        "\n",
        "Nesta tarefa você irá implementar um conjunto de funções que possibilitam o controle da posição do efetuador no espaço cartesiano. Isso permite que o efetuador possa descrever uma trajetória reta no espaço 3D cartesiano.\n",
        "\n",
        "### 5.1 Descrição de uma trajetória reta no espaço cartesiano\n",
        "\n",
        "Considere uma trajetória descrita por um seguimento de reta no espaço cartesiano que tem início no ponto 3D, $\\mathbf{^Bx_s} = [x_s, y_s, z_s]^T$, e término no ponto 3D, $\\mathbf{^Bx_g} = [x_g, y_g, z_g]^T$, ambos representados no sistema de coordenadas da base $\\{B\\}$. A velocidade linear do efetuador no inicio e fim da trajetória devem ser iguais a $0$. \n",
        "\n",
        "Quando a velocidade inicial e final do ponto é zero, a trajetória do ponto 3D a ser executada pode ser representada por um polinômio de quinta ordem no tempo:\n",
        "\n",
        "$$ \\mathbf{x} (t) = c_{0} + c_{1} t + c_{2} t^2 + c_{3} t^3 + c_{4} t^4 + c_{5} t^5 $$\n",
        "Para velocidades e acelerações iniciais e finais iguais a zero, os coeficientes do polinômio são dados em função da posição inicial e final e do intervalo de tempo $T_d$:\n",
        "\\begin{eqnarray*}\n",
        "\t&c_{0}& = \\mathbf{x_s}\\\\\n",
        "\t&c_{1}& = c_{2i} = 0\\\\\n",
        "\t&c_{3}& = \\frac{10(\\mathbf{x_g}-\\mathbf{x_s})}{T_d^{3}}\\\\\n",
        "\t&c_{4}& = \\frac{15(\\mathbf{x_s}-\\mathbf{x_g})}{T_d^{4}}\\\\\n",
        "\t&c_{5}& = \\frac{6(\\mathbf{x_g}-\\mathbf{x_s})}{T_d^{5}}\n",
        "\\end{eqnarray*}\n",
        "\n",
        "Observe que $\\mathbf{x_s}$ e $\\mathbf{x_g}$ tem dimensão $3 \\times 1$, e portanto, os coeficientes $c_0$, $c_1$, $c_2$, $c_3$, $c_4$, $c_5$ também possuem dimensão $3 \\times 1$. \n",
        "\n",
        "A velocidade linear do efetuador para condições iniciais nulas é dada por:\n",
        "$$ \\mathbf{\\dot  x} (t) = c_{1} + 2c_{2} t + 3c_{3} t^2 + 4c_{4} t^3 + 5c_{5} t^4 $$\n",
        "\n",
        "Importante ressaltar, que a trajetória de quinta ordem no espaço cartesianos não será uma reta quando as velocidades iniciais ou finais foram diferentes de zero.\n",
        "\n",
        "Para que não seja necessário utilizar a cinemática inversa do robô manipulador, nessa tarefa você irá considerar que a configuração inicial e final do robô foram dadas, ou seja, $\\mathbf{q_s}$ e $\\mathbf{q_g}$. Então, utilizando a função `pose_efetuador(robot, q)`, você irá obter a posição inicial $\\mathbf{x_s}$ e posição final $\\mathbf{x_g}$ do efetuador.\n",
        "\n",
        "Complete o código a seguir para implementar uma função que retorna os pontos $\\mathbf{x}(t)$ da trajetória do efetuador e as velocidades lineares do efetuador $\\mathbf{\\dot x}(t)$.\n",
        "\n",
        "\n"
      ],
      "metadata": {
        "id": "Vpbqdpnhn0Bv"
      }
    },
    {
      "cell_type": "code",
      "source": [
        "def calcular_trajetoria_cartesiano(robot, q_s, q_g, Td, dt):\n",
        "  # Coloque seu codigo aqui\n",
        "  Hs = pose_efetuador(robot,q_s) # posição inicial do efetuador\n",
        "  Hg = pose_efetuador(robot,q_g) # posição final do efetuador\n",
        "\n",
        "  x_s = Hs.t\n",
        "  x_g = Hg.t\n",
        "\n",
        "  Ndim = x_s.size # 3 dimensões, xyz\n",
        "\n",
        "  c0 = x_s\n",
        "  c1 = np.zeros(Ndim)\n",
        "  c2 = c1\n",
        "  c3 = 10*(x_g-x_s)/Td**3\n",
        "  c4 = 15*(x_s-x_g)/Td**4\n",
        "  c5 = 6*(x_g-x_s)/Td**5\n",
        "\n",
        "  start = 0\n",
        "  step = dt\n",
        "  end = Td+step\n",
        "  t = np.arange(start,end,step)\n",
        "  t2 = np.power(t,2)\n",
        "  t3 = np.power(t,3)\n",
        "  t4 = np.power(t,4)\n",
        "  t5 = np.power(t,5)\n",
        "    \n",
        "  M = len(t) # Number of points used in the trajectory discretization\n",
        "  \n",
        "  tVec = np.transpose(np.tile(t,(Ndim,1)))\n",
        "  tVec2 = np.transpose(np.tile(t2,(Ndim,1)))\n",
        "  tVec3 = np.transpose(np.tile(t3,(Ndim,1)))\n",
        "  tVec4 = np.transpose(np.tile(t4,(Ndim,1)))\n",
        "  tVec5 = np.transpose(np.tile(t5,(Ndim,1)))\n",
        "    \n",
        "  onesVec = np.ones((M,Ndim))\n",
        "\n",
        "  x_t = onesVec*c0[np.newaxis,:] + tVec*c1[np.newaxis,:] + tVec2*c2[np.newaxis,:] + tVec3*c3[np.newaxis,:] + tVec4*c4[np.newaxis,:] + tVec5*c5[np.newaxis,:]\n",
        "  dx_t = onesVec*c1[np.newaxis,:] + 2*tVec*c2[np.newaxis,:] + 3*tVec2*c3[np.newaxis,:] + 4*tVec3*c4[np.newaxis,:] + 5*tVec4*c5[np.newaxis,:]\n",
        "  ddx_t = 2*onesVec*c2[np.newaxis,:] + 2*3*tVec*c3[np.newaxis,:] + 3*4*tVec2*c4[np.newaxis,:]+4*5*tVec3*c5[np.newaxis,:]\n",
        "  # print(ddx_t)\n",
        "\n",
        "  return x_t, dx_t\n",
        "\n",
        "# Testing the function\n",
        "# q_s = np.array([0,1,2,3,4,5,6])\n",
        "# q_g = np.array([1,2,3,4,5,6,7])\n",
        "# Td = 0.9\n",
        "# dt = 0.1\n",
        "# robot1 = kinova_robot(\"KinovaGen3_P1\")\n",
        "# [x_t, dx_t] = calcular_trajetoria_cartesiano(robot1,q_s,q_g,Td,dt)\n",
        "\n",
        "# print(\"x_t = \\n\",x_t)\n",
        "# print(\"dx_t = \\n\",dx_t)\n"
      ],
      "metadata": {
        "id": "E3FOXqfwvhRz",
        "outputId": "14c8bcff-e127-49d4-eb41-d997bab29966",
        "colab": {
          "base_uri": "https://localhost:8080/"
        }
      },
      "execution_count": 43,
      "outputs": [
        {
          "output_type": "stream",
          "name": "stdout",
          "text": [
            "[[       0        0        0]\n",
            " [   0.379 0.006628   -2.619]\n",
            " [  0.4737 0.008285   -3.274]\n",
            " [  0.3654 0.006391   -2.525]\n",
            " [  0.1353 0.002367  -0.9353]\n",
            " [ -0.1353 -0.002367   0.9353]\n",
            " [ -0.3654 -0.006391    2.525]\n",
            " [ -0.4737 -0.008285    3.274]\n",
            " [  -0.379 -0.006628    2.619]\n",
            " [       0        0        0]]\n",
            "x_t = \n",
            " [[-0.01385  0.09211   0.3949]\n",
            " [-0.01308  0.09213   0.3896]\n",
            " [-0.008762   0.0922   0.3597]\n",
            " [0.0001271  0.09236   0.2983]\n",
            " [ 0.01257  0.09257   0.2123]\n",
            " [ 0.02633  0.09281   0.1172]\n",
            " [ 0.03877  0.09303  0.03125]\n",
            " [ 0.04766  0.09319 -0.03018]\n",
            " [ 0.05198  0.09326 -0.06003]\n",
            " [ 0.05275  0.09328 -0.06534]]\n",
            "dx_t = \n",
            " [[       0        0        0]\n",
            " [ 0.02166 0.0003787  -0.1496]\n",
            " [ 0.06632  0.00116  -0.4583]\n",
            " [  0.1096 0.001917  -0.7576]\n",
            " [  0.1353 0.002367  -0.9353]\n",
            " [  0.1353 0.002367  -0.9353]\n",
            " [  0.1096 0.001917  -0.7576]\n",
            " [ 0.06632  0.00116  -0.4583]\n",
            " [ 0.02166 0.0003787  -0.1496]\n",
            " [       0        0        0]]\n"
          ]
        }
      ]
    },
    {
      "cell_type": "markdown",
      "source": [
        "Complete o código a seguir para implementar uma função que plota a trajetória no espaço cartesiano 3D. Também plote cada componente da trajetória em função do tempo em um segundo gráfico.\n"
      ],
      "metadata": {
        "id": "1T-sqsP08OPy"
      }
    },
    {
      "cell_type": "code",
      "source": [
        "def plotar_trajetoria_cartesiano(x_t, Td, dt)\n",
        "\n",
        "# cond(Jac): verifica o quão próximos estamos de uma singularidade.\n",
        "# Próximos de uma singularidade, J^(-1) não pode ser calculado."
      ],
      "metadata": {
        "id": "7TIu6ABp8cPW",
        "outputId": "956b1ddb-e4b0-442c-ad96-c7b7d7560cfa",
        "colab": {
          "base_uri": "https://localhost:8080/",
          "height": 132
        }
      },
      "execution_count": 20,
      "outputs": [
        {
          "output_type": "error",
          "ename": "SyntaxError",
          "evalue": "ignored",
          "traceback": [
            "\u001b[0;36m  File \u001b[0;32m\"<ipython-input-20-0380e790a3b0>\"\u001b[0;36m, line \u001b[0;32m1\u001b[0m\n\u001b[0;31m    def plotar_trajetoria_cartesiano(x_t, Td, dt)\u001b[0m\n\u001b[0m                                                 ^\u001b[0m\n\u001b[0;31mSyntaxError\u001b[0m\u001b[0;31m:\u001b[0m invalid syntax\n"
          ]
        }
      ]
    },
    {
      "cell_type": "markdown",
      "source": [
        "### 5.2 Conversão de trajetória no espaço cartesiano para espaço das juntas\n",
        "\n",
        "**Método 1:** uma das formas de converter uma trajetória no espaço cartesiano para o espaço das juntas é aplicar a cinemática inversa para todos os pontos da trajetória $\\mathbf{x}(t)$. Entretanto, para o manipulador redundante, para uma dada posição do efetuador, existem múltiplas configurações possíveis (soluções válidas da cinemática inversa). Portanto, é preciso aplicar um método numérico iterativo que retorna, para um ponto da trajetória, a solução de configuração *mais próxima* da configuração associada ao ponto anterior da trajetória. Dessa forma, a continuidade do movimento das juntas é preservada.\n",
        "\n",
        "**Método 2:** Uma outra forma de fazer isso é utilizar a pseudo-inversa do Jacobiano. Entretanto, esse método não é adequado quando a trajetória passa próximo de um ponto de singularidade. Próximo da singulariade, o valor da pseudo-inversa do Jacobinado é muito alto, o que resultaria em uma velocidade de juntas também muito alta. \n",
        "\n",
        "Nessa tarefa, você irá aplicar o **método 2** para converter a trajetória no espaço cartesiano para o espaço das juntas.\n",
        "\n",
        "O número de condicionamento de um função (condition number) mede quanto o valor de saída é alterado por uma pequena variação na entrada. Aplicado a matriz, quando o determinante da matriz é zero, o número de condicionamento é infinito.\n",
        "\n",
        "No método 2 para controle de trajetória de robôs manipuladores, deve-se evitar trajetórias que passam próximo de configurações singulares, onde o determinante da matriz Jacobiano é zero. Ao invés de verificra ao longo da trajetória o determinante do Jacobinao, iremos verificar o número de condicionamento que pode ser utilizado para matrizes não quadradas:\n",
        "\n",
        "`c = np.linalg.cond(matriz)`\n",
        "\n",
        "Se o número de condicionamento do Jacobiano de velocidade linear $cond(J_v)$ for menor que um limiar, ou seja, $cond(J_v) < J_{max}$, então o ponto está suficientemente longe da singularidade, e podemos calcular a pseudo-inversa $J_v^{-1}$. \n",
        "\n",
        "Então, para construir a trajetória no espaço das juntas:\n",
        "\n",
        "$$ \\mathbf{q}(0) = \\mathbf{q_s}$$\n",
        "\n",
        "Para $t = 0 \\ldots (T_d-dt)$:\n",
        "\n",
        "$$c_J(t) = cond(J_v(\\mathbf{q}(t)))$$\n",
        "$$\\mathbf{\\dot q}(t) = ({^0J_v}(\\mathbf{q}(t)))^{-1} [{^0R_B} {^B\\mathbf{\\dot x}}(t)] $$\n",
        "$$\\delta \\mathbf{q} = ({^0J_v}(\\mathbf{q}(t)))^{-1} [{^0R_B}[\\mathbf{x}(t+dt) - \\mathbf{x}(t)]]$$\n",
        "$$\\mathbf{q}(t+dt) = \\mathbf{q}(t) + \\delta \\mathbf{q}$$\n",
        "\n",
        "Implementar a seguinte função de conversão que retorna uma matriz com as configurações do robô para cada instante de tempo. Não se preocupe, se a configuração final da trajetória não for a mesma que $q_g$. O importante é que a posição final do efetuador seja igual a posição final desejada."
      ],
      "metadata": {
        "id": "ThMJ-VX-8j3X"
      }
    },
    {
      "cell_type": "code",
      "source": [
        "def trajetoria_cartesiano_para_juntas(robot,q_s, q_g, x_t, dx_t, Td, dt, J_min)\n",
        "\n",
        "\n",
        "\n",
        "return q_t, dq_t, cJ_t"
      ],
      "metadata": {
        "id": "jCObjyLtAuIB"
      },
      "execution_count": null,
      "outputs": []
    },
    {
      "cell_type": "markdown",
      "source": [
        "###5.3 Plotar Resultado \n",
        "\n",
        "Para verificar se a trajetória controlada está correta, podemos converter a trajetória no espaço das juntas que foi resultado da funcão `trajetoria_cartesiano_para_juntas` em trajetória no espaço cartesiano, e plotar essa trajetória."
      ],
      "metadata": {
        "id": "j8hYQovrOvtO"
      }
    },
    {
      "cell_type": "code",
      "source": [
        "def plotar_trajetoria_cartesiano_resultado(robo, q_t, dt, Td)\n",
        "  # Converter através da função 'pose_efetuador' a trajetoria no espaço das juntas para trajetória do efetuador no espaço cartesiano\n",
        "\n",
        "  # Plotar a trajetória no espaço cartesiano usando a função 'plotar_trajetoria_cartesiano'\n"
      ],
      "metadata": {
        "id": "22Ns6NR7Vccl"
      },
      "execution_count": null,
      "outputs": []
    },
    {
      "cell_type": "markdown",
      "source": [
        "### 5.4 Teste as funções implementadas\n",
        "\n",
        "Escolha uma configuração inicial $\\mathbf{q_s}$ e final para o robô $\\mathbf{q_g}$ de forma que não exista pontos de singularidade ao longo da trajetória reta entre as configuracões. Escolha também um valor de $T_d$ e $dt$.\n",
        "\n",
        "Teste as funções implementadas em 5.1 e 5.2 para os valores escolhidos, e plote um gráfico com a trajetória 3D do efetuador no espaço cartesiano, e um gráfico com a trajetória no espaço das juntas do manipulador. "
      ],
      "metadata": {
        "id": "WMhIP-YXBzej"
      }
    }
  ]
}