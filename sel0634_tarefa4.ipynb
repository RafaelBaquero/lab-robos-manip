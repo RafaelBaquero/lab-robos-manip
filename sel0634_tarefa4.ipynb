{
  "metadata": {
    "colab": {
      "name": "sel0634_tarefa4_2022.ipynb",
      "provenance": [],
      "collapsed_sections": []
    },
    "kernelspec": {
      "name": "python3",
      "display_name": "Python 3 (ipykernel)",
      "language": "python"
    },
    "language_info": {
      "name": "python",
      "version": "3.7.12",
      "mimetype": "text/x-python",
      "codemirror_mode": {
        "name": "ipython",
        "version": 3
      },
      "pygments_lexer": "ipython3",
      "nbconvert_exporter": "python",
      "file_extension": ".py"
    }
  },
  "nbformat_minor": 0,
  "nbformat": 4,
  "cells": [
    {
      "cell_type": "markdown",
      "source": [
        "# SEL634 - Laboratório de Robôs Manipuladores\n",
        "\n",
        "## Inicialização da biblioteca\n",
        "\n",
        "Carregar a biblioteca de robótica para Python:"
      ],
      "metadata": {
        "id": "RfOcPjB5LeQA"
      }
    },
    {
      "cell_type": "code",
      "source": [
        "!pip install roboticstoolbox-python\n",
        "!pip install spatialmath-python"
      ],
      "metadata": {
        "id": "byi8G6BxLXK7",
        "trusted": true
      },
      "execution_count": null,
      "outputs": []
    },
    {
      "cell_type": "code",
      "source": [
        "import numpy as np\n",
        "#import roboticstoolbox as rtb\n",
        "from roboticstoolbox import *\n",
        "from spatialmath import *\n",
        "import spatialmath.base as tr # https://pypi.org/project/spatialmath-python/\n",
        "from math import pi\n",
        "import matplotlib.pyplot as plt\n",
        "from matplotlib import cm\n",
        "np.set_printoptions(linewidth=100, formatter={'float': lambda x: f\"{x:8.4g}\" if abs(x) > 1e-10 else f\"{0:8.4g}\"})\n",
        "\n",
        "# teste\n",
        "# no Binder utilizar essa linha\n",
        "#%matplotlib notebook  \n",
        "# no Colab utilizar essa linha\n",
        "%matplotlib inline\n",
        "\n",
        "#print(\"numpy version = \",np.__version__)\n",
        "#print(\"Functions in spatialmath.base:\\n\",dir(tr))"
      ],
      "metadata": {
        "id": "GhTb1eOALjKe",
        "trusted": true
      },
      "execution_count": null,
      "outputs": []
    },
    {
      "cell_type": "markdown",
      "source": [
        ""
      ],
      "metadata": {
        "id": "1yoDwHxHcdd4"
      }
    },
    {
      "cell_type": "markdown",
      "source": [
        "## Cinemática Direta do Robô Kinova Gen3 (Cópia da Tarefa 3)\n",
        "\n",
        "O robô Kinova Gen3 pode ser modelado pela seguinte função (ver Tarefa 2):"
      ],
      "metadata": {
        "id": "76NHqE5ELmAl"
      }
    },
    {
      "cell_type": "code",
      "source": [
        "def kinova_robot(my_name):\n",
        "  robot = DHRobot(\n",
        "      [\n",
        "       # Colocar seu código aqui para completar a descrição do robô\n",
        "        RevoluteDH(d=-(0.1564+0.1284), alpha=pi/2),\n",
        "            RevoluteDH(d=-(0.0054+0.0064), alpha=pi/2, offset=pi),\n",
        "            RevoluteDH(d=-(0.2104+0.2104), alpha=pi/2, offset=pi),\n",
        "            RevoluteDH(d=-(0.0064+0.0064), alpha=pi/2, offset=pi),\n",
        "            RevoluteDH(d=-(0.2084+0.1059), alpha=pi/2, offset=pi),\n",
        "            RevoluteDH(alpha=pi/2, offset=pi),\n",
        "            RevoluteDH(d=-(0.1059+0.0615), alpha=pi, offset=pi)\n",
        "       ], name=my_name)\n",
        "  H_B0 = SE3.Rz(0)*SE3(0,0,0)*SE3(0,0,0)*SE3.Rx(pi)\n",
        "  robot.base = H_B0\n",
        "  return robot\n"
      ],
      "metadata": {
        "id": "PE8CpE4eMA3K",
        "trusted": true
      },
      "execution_count": null,
      "outputs": []
    },
    {
      "cell_type": "markdown",
      "source": [
        "A pose do efetuador do robô Kinova Gen3 é dada em relação a base, $B$, pela função:"
      ],
      "metadata": {
        "id": "gtjvxjQsMJ6P"
      }
    },
    {
      "cell_type": "code",
      "source": [
        "def pose_efetuador(robot, q):\n",
        "  H_B7 = robot.fkine(q)\n",
        "  return H_B7"
      ],
      "metadata": {
        "id": "vRK0cR_TMQFO",
        "trusted": true
      },
      "execution_count": null,
      "outputs": []
    },
    {
      "cell_type": "markdown",
      "source": [
        "## Tarefa 4 - Trajetória do Robô no Espaço das Juntas\n",
        "\n",
        "De modo geral, existem duas formas de descrever trajetórias para um robô manipulador: especificar trajetórias no espaço de configuração, ou especificar trajetórias no espaço da tarefa. \n",
        "\n",
        "Nesta experiência serão especificadas as trajetórias no espaço de configuração, ou seja, serão especificadas trajetórias para cada junta do robô, e através da cinemática direta serão calculadas a posição e orientação do efetuador para cada configuração do robô.\n",
        "\n",
        "Através de um polinômio de quinta ordem é possível obter uma trajetória suave para junta ao definir a posição, velocidade e aceleração inicial e final no intervalo de tempo da trajetória. \n",
        "\n",
        "**Polinômio de quinta ordem:** Considere que a junta $i$ possui a seguinte trajetória  em graus no tempo que leva a junta $i$ da posição $\\theta_{si}$ até $\\theta_{gi}$ em um intervalo de tempo $T_d$:\n",
        "$$ \\theta_i (t) = c_{0i} + c_{1i} t + c_{2i} t^2 + c_{3i} t^3 + c_{4i} t^4 + c_{5i} t^5 $$\n",
        "Para velocidades e acelerações iniciais e finais iguais a zero, os coeficientes do polinômio são dados em função da posição inicial e final e do intervalo de tempo:\n",
        "\\begin{eqnarray*}\n",
        "\t&c_{0i}& = \\theta_{si}\\\\\n",
        "\t&c_{1i}& = c_{2i} = 0\\\\\n",
        "\t&c_{3i}& = \\frac{10(\\theta_{gi}-\\theta_{si})}{T_d^{3}}\\\\\n",
        "\t&c_{4i}& = \\frac{15(\\theta_{si}-\\theta_{gi})}{T_d^{4}}\\\\\n",
        "\t&c_{5i}& = \\frac{6(\\theta_{gi}-\\theta_{si})}{T_d^{5}}\n",
        "\\end{eqnarray*}\n",
        "\n",
        "A velocidade de cada junta para condições iniciais nulas é dada por:\n",
        "$$ \\dot\\theta_i (t) = c_{1i} + 2c_{2i} t + 3c_{3i} t^2 + 4c_{4i} t^3 + 5c_{5i} t^4 $$\n",
        "\n",
        "A aceleração de cada junta para condições iniciais nulas é dada por:\n",
        "$$ \\ddot\\theta_i (t) = 2c_{2i} + 6c_{3i} t + 12c_{4i} t^2 + 20c_{5i} t^3 $$\n"
      ],
      "metadata": {
        "id": "BodYKE_NMFGv"
      }
    },
    {
      "cell_type": "markdown",
      "source": [
        "### 3.1 **Escreva uma função para calcular a trajetória das juntas do manipulador.** \n",
        "\n",
        "**A função deve ter como entrada:** um vetor $\\theta_s$ com as posições iniciais das $N$ juntas do manipulador, um vetor $\\theta_g$ com as posições finais das $N$ juntas do manipulador, o intervalo de tempo total do movimento $T_d$, o intervalo de tempo entre cada ponto da trajetória $\\delta t$. \n",
        "\n",
        "**A função deve ter como saída:** uma matriz $\\theta$ que descreve a posição de cada junta no tempo, e que possui dimensão $M \\times N$, onde $N$ é o número de juntas do manipulador, $M$ é a quantidade de pontos da trajetória de cada junta ($M = T_d / \\delta t$); uma matriz $d\\theta$ com dimensão $M \\times N$ que descreve a velocidade de cada junta no tempo; uma matriz $dd\\theta$ com dimensão $M \\times N$ que descreve a aceleração de cada junta no tempo. \n",
        "\n",
        "**Observação:** Não utilize a derivada numérica discreta para encontrar a velocidade e aceleração. Calcule a velocidade e aceleração a partir das suas funções analíticas. Também não utilize loop para encontrar os pontos das curvas, ao invés disso, crie um vetor de tempo com $M$ elementos de $0$ a $T_d$, e use esse vetor diretamente no calculo das trajetórias. "
      ],
      "metadata": {
        "id": "KWBinqDgNDBf"
      }
    },
    {
      "cell_type": "code",
      "source": [
        "def calcular_trajetoria(theta_s, theta_g, Td, dt):\n",
        "  # Coloque seu codigo aqui\n",
        "    N = theta_s.size # Array length\n",
        "    \n",
        "    c0 = theta_s\n",
        "    c1 = np.zeros(N)\n",
        "    c2 = c1\n",
        "    c3 = 10*(theta_g-theta_s)/Td**3\n",
        "    c4 = 15*(theta_s-theta_g)/Td**4\n",
        "    c5 = 6*(theta_g-theta_s)/Td**5\n",
        "    \n",
        "    #print(c1)\n",
        "\n",
        "    start = 0\n",
        "    step = dt\n",
        "    end = Td+step\n",
        "    t = np.arange(start,end,step)\n",
        "    t2 = np.power(t,2)\n",
        "    t3 = np.power(t,3)\n",
        "    t4 = np.power(t,4)\n",
        "    t5 = np.power(t,5)\n",
        "    \n",
        "    M = len(t) # Number of points used in the trajectory discretization\n",
        "    #print(c3)\n",
        "\n",
        "    #here adjust MxN dimensions \n",
        "    # https://numpy.org/doc/stable/user/basics.broadcasting.html\n",
        "    # https://numpy.org/doc/stable/reference/generated/numpy.tile.html?highlight=numpy%20tile#numpy.tile\n",
        "    \n",
        "    tVec = np.transpose(np.tile(t,(N,1)))\n",
        "    tVec2 = np.transpose(np.tile(t2,(N,1)))\n",
        "    tVec3 = np.transpose(np.tile(t3,(N,1)))\n",
        "    tVec4 = np.transpose(np.tile(t4,(N,1)))\n",
        "    tVec5 = np.transpose(np.tile(t5,(N,1)))\n",
        "    \n",
        "    onesVec = np.ones((M,N))\n",
        "    \n",
        "    #print(tVec2)\n",
        "    #print(\"M =\",M)\n",
        "    #print(tVec*c1[np.newaxis,:])\n",
        "    \n",
        "    theta_t = onesVec*c0[np.newaxis,:] + tVec*c1[np.newaxis,:] + tVec2*c2[np.newaxis,:] + tVec3*c3[np.newaxis,:] + tVec4*c4[np.newaxis,:] + tVec5*c5[np.newaxis,:]\n",
        "    dtheta_t = onesVec*c1[np.newaxis,:] + 2*tVec*c2[np.newaxis,:] + 3*tVec2*c3[np.newaxis,:] + 4*tVec3*c4[np.newaxis,:] + 5*tVec4*c5[np.newaxis,:]\n",
        "    ddtheta_t = 2*onesVec*c2[np.newaxis,:] + 2*3*tVec*c3[np.newaxis,:] + 3*4*tVec2*c4[np.newaxis,:]+4*5*tVec3*c5[np.newaxis,:]\n",
        "    return theta_t, dtheta_t, ddtheta_t\n",
        "\n",
        "# Testing the function\n",
        "# theta_s = np.array([0,1,2,3,4,5,6])\n",
        "# theta_g = np.array([1,2,3,4,5,6,7])\n",
        "# Td = 1\n",
        "# dt = 0.1\n",
        "# [theta1, theta2, theta3] = calcular_trajetoria(theta_s,theta_g,Td,dt)\n",
        "# print(theta1)\n",
        "\n",
        "# Multi-line edit: https://stackoverflow.com/questions/60053748/google-colab-edit-two-lines-at-the-same-time"
      ],
      "metadata": {
        "id": "dDkgxSqhNUP3",
        "trusted": true
      },
      "execution_count": null,
      "outputs": []
    },
    {
      "cell_type": "markdown",
      "source": [
        "### 3.2 Escreva uma função para plotar as curvas de posição, velocidade e aceleração em função do tempo para cada junta do robô. \n",
        "\n",
        "O programa deve plotar 3 gráficos em função do tempo, um para a posição, um para velocidade e um para aceleração nas juntas. Em cada um dos três gráficos, sobreponha as curvas para as juntas do robô identificando por cores diferentes cada uma das juntas. Não esqueça de colocar título nas figuras, rótulo para cada um dos eixos com a unidade de medida e significado, e legenda para as cores. \n",
        "\n",
        "**Entrada da função:** As mesmas entradas da função do item 3.1. "
      ],
      "metadata": {
        "id": "yuEZmIpRNuCM"
      }
    },
    {
      "cell_type": "code",
      "source": [
        "def plotar_trajetoria_juntas(theta_s, theta_g, Td, dt):\n",
        "  # Coloque seu codigo aqui\n",
        "    \n",
        "    # Criar vetor tempo\n",
        "    start = 0\n",
        "    step = dt\n",
        "    end = Td+step\n",
        "    t = np.arange(start,end,step)\n",
        "    \n",
        "    # Obter curvas theta\n",
        "    [theta_t, dtheta_t, ddtheta_t] = calcular_trajetoria(theta_s,theta_g,Td,dt)\n",
        "    \n",
        "    N = theta_t.shape[1]\n",
        "    lgn = []\n",
        "    for i in range(N):\n",
        "      lgn.append(\"$J_\"+str(i+1)+\"$\")\n",
        "\n",
        "    # Construir os gráficos\n",
        "    fig = plt.figure()\n",
        "    fig.suptitle('Posição, velocidade e aceleração das juntas',fontsize = 16)\n",
        "    ax1 = fig.add_subplot(1,1,1)\n",
        "    for i in range(theta_s.size):\n",
        "      ax1.plot(t,theta_t[:,i])  # theta\n",
        "    ax1.grid(True)\n",
        "    # ax1.legend(lgn,loc = \"upper left\",ncol=len(lgn))\n",
        "    ax1.legend(lgn,loc = \"upper right\")\n",
        "    plt.xlabel('Tempo (s)')\n",
        "    plt.ylabel(r'Posição angular $\\theta_s(t)$ [rad]')\n",
        "    # https://matplotlib.org/3.5.0/tutorials/text/mathtext.html\n",
        "\n",
        "    fig = plt.figure() \n",
        "    ax2 = fig.add_subplot(1,1,1)\n",
        "    for i in range(theta_s.size):\n",
        "      ax2.plot(t,dtheta_t[:,i]) # dtheta\n",
        "    ax2.grid(True)\n",
        "    ax2.legend(lgn,loc = \"upper right\")\n",
        "    plt.xlabel('Tempo (s)')\n",
        "    plt.ylabel(r'Velocidade angular $ \\frac{d\\theta_s(t)}{dt}$ [rad/s]')\n",
        "\n",
        "    fig = plt.figure() \n",
        "    ax3 = fig.add_subplot(1,1,1)\n",
        "    for i in range(theta_s.size):\n",
        "      ax3.plot(t,ddtheta_t[:,i]) # ddtheta\n",
        "    ax3.grid(True)\n",
        "    ax3.legend(lgn,loc = \"upper right\")\n",
        "    plt.xlabel('Tempo (s)')\n",
        "    plt.ylabel(r'Aceleração angular $\\frac{d^2\\theta_s(t)}{dt^2}$ [rad/s$^2$]')\n",
        "\n",
        "# theta_s = np.array([0,1,2,3,4,5,6])\n",
        "# theta_g = np.array([1,2,3,4,5,6,7])\n",
        "# Td = 1\n",
        "# dt = 0.1\n",
        "# plotar_trajetoria_juntas(theta_s,theta_g,Td,dt)\n",
        "\n",
        "# aux = np.array([[0,1,2],[3,4,5]])\n",
        "# aux = np.array([0,1,2])\n",
        "# print(\"aux = \\n\", aux)\n",
        "# print(\"aux_transposed = \\n\", np.transpose(aux))\n",
        "# print(\"test1 = \\n\", np.tile(aux,(1,2)))\n",
        "# print(\"test2 = \\n\", np.tile(aux,(2,1)))\n",
        "# print(\"test3 = \\n\", np.tile(np.transpose(aux),(1,2)))\n",
        "# print(\"test4 = \\n\", np.tile(np.transpose(aux),(2,1)))"
      ],
      "metadata": {
        "id": "zMi-ZrjpN-Dx"
      },
      "execution_count": null,
      "outputs": []
    },
    {
      "cell_type": "markdown",
      "source": [
        "### 3.3 Escreva uma função que calcule a cinemática direta do robô Kinova Gen3 para cada ponto da trajetória do robô no espaço das juntas\n",
        "\n",
        "Para cada configuração do robô no tempo, $\\mathbf{q} = [\\theta_1~\\theta_2~\\theta_3~ \\theta_4~ \\theta_5~ \\theta_6~ \\theta_7]^T$, calcular matriz de transformação homogênea que representa a pose do efetuador em relação a base. \n",
        "\n",
        "**Entrada da função:** O modelo cinemático do robô Kinova Gen3 (resultado da Tarefa 2); a matriz $\\theta$ de dimensão $M \\times N$ resultado do item 3.1. \n",
        "\n",
        "**Saída da função:** um vetor `np.array` de matrizes de transformação homogênea (dimensão $M \\times 4 \\times 4$), em que para cada instante de tempo, a matriz de transformação homogênea representa a pose do robô (posição e orientação do efetuador). Consulte a seção 2.5 da tarefa 2."
      ],
      "metadata": {
        "id": "amRIj2OOOKM2"
      }
    },
    {
      "cell_type": "code",
      "source": [
        "def calcular_traj_efetuador(robot, theta_t):\n",
        "  # Coloque seu codigo aqui\n",
        "  # print(\"theta_t = \",theta_t[:,0]) # Testr\n",
        "  HH = pose_efetuador(robot,theta_t)\n",
        "  HHnp = np.array(HH[:].A) # Conversão para np.array\n",
        "  HH_efetuador = HHnp\n",
        "  return HH_efetuador\n",
        "\n",
        "# theta_s = np.array([0,1,2,3,4,5,6])\n",
        "# theta_g = np.array([1,2,3,4,5,6,7])\n",
        "# Td = 1\n",
        "# dt = 0.1\n",
        "# [theta_t, dtheta_t, ddtheta_t] = calcular_trajetoria(theta_s,theta_g,Td,dt)\n",
        "# robot1 = kinova_robot(\"KinovaGen3_P1\")\n",
        "# HH = calcular_traj_efetuador(robot1,theta_t)\n",
        "\n",
        "# print(HH)"
      ],
      "metadata": {
        "id": "d4LVto0AOcWP"
      },
      "execution_count": null,
      "outputs": []
    },
    {
      "cell_type": "markdown",
      "source": [
        "### 3.6 Teste das funções\n",
        "\n",
        "Faça o teste das funções dos itens 3.2 e 3.3 para os seguintes parâmetros: $T_d = 10$ segundos, $\\delta t = 0.01$ segundos,  posição inicial das juntas $\\theta_s = [0, 0, 0, 0, 0, 0, 0]^T$  e posição final das juntas $\\theta_g = [90, 90, 0, -90, 0, 90, 0]^T$ dada em graus."
      ],
      "metadata": {
        "id": "zGrcgsu8OlI_"
      }
    },
    {
      "cell_type": "code",
      "source": [
        "Td = 10.0\n",
        "dt = 0.01\n",
        "theta_s = np.array([0,0,0,0,0,0,0])*pi/180\n",
        "theta_g = np.array([90,90,0,-90,0,90,0])*pi/180\n",
        "\n",
        "robot1 = kinova_robot(\"KinovaGen3_P1\")\n",
        "\n",
        "# 3.1\n",
        "[theta_t, dtheta_t, dtheta_t] = calcular_trajetoria(theta_s,theta_g,Td,dt)\n",
        "# 3.2\n",
        "plotar_trajetoria_juntas(theta_s,theta_g,Td,dt)\n",
        "# 3.3\n",
        "HH = calcular_traj_efetuador(robot1,theta_t)"
      ],
      "metadata": {
        "id": "57dIRjd6Otd-"
      },
      "execution_count": null,
      "outputs": []
    },
    {
      "cell_type": "markdown",
      "source": [
        "# Tarefa 4 - Cinemática Inversa\n",
        "\n",
        "Na **Tarefa 4** o objetivo é aplicar a função que calcula a cinemática inversa para a trajetória do efetuador obtida na seção 3.6 da **Tarefa 3**.\n",
        "\n",
        "Utilize a função [`ikine_LMS`](https://petercorke.github.io/robotics-toolbox-python/arm_dh.html#roboticstoolbox.robot.DHRobot.DHRobot.ikine_LMS) ou a função [`ikine_LM`](https://petercorke.github.io/robotics-toolbox-python/arm_dh.html#roboticstoolbox.robot.DHRobot.DHRobot.ikine_LM) para calcular de forma numérica a cinematica inversa para cada ponto da trajetória do efetuador obtida na seção 3.6 da **Tarefa 3**.\n",
        "\n",
        "A função `ikine_LMS` ou `ikine_LM` recebe como parâmetro uma matriz de transformação homogênea representada como um objeto da classe SE3. O segundo parâmetros opcional da função é a posição inicial das juntas. Exemplo:\n",
        "\n",
        "```\n",
        "robot = kinova_robot(\"kinova\")\n",
        "T = SE3()\n",
        "q0 = [0 0 0 0 0 0 0]\n",
        "sol = robot.ikine_LM(T,q0)\n",
        "```\n",
        "\n",
        "Para calcular a cinemática da trajetória do efetuador, você deve executar a função de cinemática inversa considerando a pose do efetuador no instante de tempo discreto $k$ dada por $T_k$ e a configuração inicial dada pela configuração do robô no instante discreto anterior dada por $q_{k-1}$. Observe que $q_{k-1}$ é a resposta da cinemática inversa para $T_{k-1}$.\n",
        "\n",
        "Também observe que como resultado da seção 3.6 da **Tarefa 3**, você obteve o Numpy array `HH_efetuador` que é um vetor de matrizes de transformação homogênea. Para cada uma dessas matrizes, por exemplo `T_k`, você poderá converter de volta para um objeto SE3 utilizando o comando: `SE3(T_k)`.\n",
        "\n",
        "A estrutura de dados que é resposta da função `ikine_LM` possui como um dos componentes a configuração do robô $q_k$ resposta da cinemática inversa de $T_k$. Salve cada resposta $q_k$ em uma matriz $M \\times N$ semelhante àquela retornada na **seção 3.1**.\n"
      ],
      "metadata": {
        "id": "8gyr2kS4PeYE"
      }
    },
    {
      "cell_type": "markdown",
      "source": [
        "## 4.1 Teste da função"
      ],
      "metadata": {
        "id": "FQfRTmpdWA5t"
      }
    },
    {
      "cell_type": "code",
      "source": [
        "# Coloque seu código aqui\n",
        "M = HH.shape[0]\n",
        "N = theta_s.shape[0]\n",
        "#HHse3 = np.zeros(HH.shape) # Inicialização do vetor de matrizes SE3 com np.zeros?? Funciona sim!!\n",
        "HHse3 = list()\n",
        "for i in range(M):\n",
        "  HHse3.append(SE3(HH[i]))\n",
        "\n",
        "qSol = np.zeros((M,N)) \n",
        "qSol[0,:] = theta_s # q0, posição inicial\n",
        "\n",
        "# sol = robot1.ikine_LM(HHse3[1],qVec[0,:])\n",
        "# qSol[1,:] = sol[0] # O vetor de juntas (np.array) está na posição 0 do objeto sol\n",
        "# print(sol[0],type(sol[0]))\n",
        "# sol = robot1.ikine_LM(HHse3[2],qVec[1])\n",
        "# qSol[2,:] = sol[0]\n",
        "# print(qSol[0:3,:])\n",
        "\n",
        "qSol_LM = qSol\n",
        "qSol_LMS = qSol\n",
        "\n",
        "for i in range(M-1): # Cinemática inversa ikine_LM\n",
        "  sol_LM = robot1.ikine_LM(HHse3[i+1],qSol_LM[i,:])\n",
        "  qSol_LM[i+1,:] = sol_LM[0]\n",
        "\n",
        "for i in range(M-1): # Cinemática inversa ikine_LMS\n",
        "  sol_LMS = robot1.ikine_LMS(HHse3[i],qSol_LMS[i,:])\n",
        "  qSol_LMS[i+1,:] = sol_LMS[0]\n"
      ],
      "metadata": {
        "id": "eMxLjOh_V-d1"
      },
      "execution_count": null,
      "outputs": []
    },
    {
      "cell_type": "code",
      "source": [
        "# print(qSol_LM[50])\n",
        "# print(qSol_LMS[50])\n",
        "# plotar_trajetoria_juntas_iKine(qSol_LM,Td,dt)\n",
        "# M = HH.shape[0]\n",
        "# Mse3 = HHse3.A.shape[0]\n",
        "#print(M,Mse3)\n",
        "# print(HHse3[M-1])\n",
        "# print(HH[M-1])"
      ],
      "metadata": {
        "id": "Hzg144mPopkK"
      },
      "execution_count": null,
      "outputs": []
    },
    {
      "cell_type": "markdown",
      "source": [
        "Plote um gráfico da trajetória das juntas do robô, obtidas através da cinemática inversa."
      ],
      "metadata": {
        "id": "WSXuS1cEWJPn"
      }
    },
    {
      "cell_type": "code",
      "source": [
        "# Coloque seu código aqui\n",
        "\n",
        "def plotar_trajetoria_juntas_iKine(qVec, Td, dt, flag):\n",
        "  # Coloque seu codigo aqui\n",
        "    \n",
        "    # Criar vetor tempo\n",
        "    start = 0\n",
        "    step = dt\n",
        "    end = Td+step\n",
        "    t = np.arange(start,end,step)\n",
        "    \n",
        "    # Obter curvas theta\n",
        "    # [theta_t, dtheta_t, ddtheta_t] = calcular_trajetoria(theta_s,theta_g,Td,dt)\n",
        "    theta_t = qVec\n",
        "    \n",
        "    N = theta_t.shape[1]\n",
        "    lgn = []\n",
        "    for i in range(N):\n",
        "      lgn.append(\"$J_\"+str(i+1)+\"$\")\n",
        "\n",
        "    # Construir os gráficos\n",
        "    fig = plt.figure()\n",
        "    if flag == 0:\n",
        "      fig.suptitle('Posição das juntas: cinemática inversa LM',fontsize = 16)\n",
        "    else:\n",
        "      fig.suptitle('Posição das juntas: cinemática inversa LMS',fontsize = 16)\n",
        "\n",
        "    ax1 = fig.add_subplot(1,1,1)\n",
        "    for i in range(theta_s.size):\n",
        "      ax1.plot(t,theta_t[:,i])  # theta\n",
        "    ax1.grid(True)\n",
        "    # ax1.legend(lgn,loc = \"upper left\",ncol=len(lgn))\n",
        "    ax1.legend(lgn,loc = \"upper right\")\n",
        "    plt.xlabel('Tempo (s)')\n",
        "    plt.ylabel(r'Posição angular $\\theta_s(t)$ [rad]')\n",
        "    # https://matplotlib.org/3.5.0/tutorials/text/mathtext.html\n",
        "\n",
        "    # fig = plt.figure() \n",
        "    # ax2 = fig.add_subplot(1,1,1)\n",
        "    # for i in range(theta_s.size):\n",
        "    #   ax2.plot(t,dtheta_t[:,i]) # dtheta\n",
        "    # ax2.grid(True)\n",
        "    # ax2.legend(lgn,loc = \"upper right\")\n",
        "    # plt.xlabel('Tempo (s)')\n",
        "    # plt.ylabel(r'Velocidade angular $ \\frac{d\\theta_s(t)}{dt}$ [rad/s]')\n",
        "\n",
        "    # fig = plt.figure() \n",
        "    # ax3 = fig.add_subplot(1,1,1)\n",
        "    # for i in range(theta_s.size):\n",
        "    #   ax3.plot(t,ddtheta_t[:,i]) # ddtheta\n",
        "    # ax3.grid(True)\n",
        "    # ax3.legend(lgn,loc = \"upper right\")\n",
        "    # plt.xlabel('Tempo (s)')\n",
        "    # plt.ylabel(r'Aceleração angular $\\frac{d^2\\theta_s(t)}{dt^2}$ [rad/s$^2$]')\n",
        "\n",
        "# 3.2\n",
        "plotar_trajetoria_juntas_iKine(qSol_LM,Td,dt,0)\n",
        "plotar_trajetoria_juntas_iKine(qSol_LMS,Td,dt,1)\n",
        "plotar_trajetoria_juntas(theta_s,theta_g,Td,dt)"
      ],
      "metadata": {
        "id": "ijglk7HGXnAU"
      },
      "execution_count": null,
      "outputs": []
    },
    {
      "cell_type": "markdown",
      "source": [
        "Notas atividade 5\n",
        "\n",
        "$^BH_0 = [[B^R_0 & 0];[0 & 1]]$"
      ],
      "metadata": {
        "id": "DxXgyfCqchpI"
      }
    },
    {
      "cell_type": "code",
      "source": [
        "\n",
        "#print(\"qSol =\\n\",qSol_LM[M-1,:])\n",
        "#print(\"theta_t = \\n\",theta_t[M-1,:])\n",
        "\n",
        "k = M-1; # Escolha um valor de 0 a M-1 para testar a comparação entre fkine e ikine\n",
        "Hfk = robot1.fkine(theta_t[k,:]) # Cinemática direta\n",
        "Hik_LM = robot1.fkine(qSol_LM[k,:]) # Cinemática inversa calculada com ikine_LM\n",
        "Hik_LMS = robot1.fkine(qSol_LMS[k,:]) # Cinemática inversa calculada com ikine_LMS\n",
        "\n",
        "print(\"Hfk = \\n\",Hfk)\n",
        "print(\"Hik_LM = \\n\",Hik_LM)\n",
        "print(\"Hik_LMS = \\n\",Hik_LMS)"
      ],
      "metadata": {
        "id": "eH1LwGtW8INK"
      },
      "execution_count": null,
      "outputs": []
    },
    {
      "cell_type": "code",
      "source": [
        ""
      ],
      "metadata": {
        "id": "G0aEfo5UDM4W"
      },
      "execution_count": null,
      "outputs": []
    }
  ]
}